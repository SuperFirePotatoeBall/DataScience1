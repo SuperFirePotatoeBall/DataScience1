{
 "cells": [
  {
   "cell_type": "code",
   "execution_count": 1,
   "metadata": {
    "id": "bIBt_FTuvB7O"
   },
   "outputs": [],
   "source": [
    "pirates = {\n",
    "    \"Pirate\":[\"Blackbeard\", \"Anne Bonny\", \"Calico Jack\", \"Cheung Po Tsai\", \"Grace O'Malley\", \"Mary Read\", \"Sayyida al Hurra\", \"Ching Shih\", \"Sir Francis Drake\", \"Jean Lafittte\"],\n",
    "    \"Sex\":[\"M\", \"F\", \"M\", \"M\", \"F\", \"F\", \"F\", \"F\", \"M\", \"M\"],\n",
    "    \"Age at Death\":[40, 24, 37, 39, 73, 36, 75, 69, 56, 46],\n",
    "    \"Height\":[6.4, 5.6, 5.6, 5.3, 5.0, 5.1, \"\", 5.3, 5.5, 6.2],\n",
    "    \"Skull and Crossbones\":[False, True, True, False, False, True, False, False, False, False]\n",
    "}"
   ]
  },
  {
   "cell_type": "code",
   "execution_count": 2,
   "metadata": {},
   "outputs": [
    {
     "name": "stdout",
     "output_type": "stream",
     "text": [
      "Blackbeard\n",
      "M\n",
      "40\n",
      "6.4\n",
      "False\n"
     ]
    }
   ],
   "source": [
    "for x in pirates:\n",
    "    print(pirates[x][0])"
   ]
  },
  {
   "cell_type": "code",
   "execution_count": 3,
   "metadata": {},
   "outputs": [
    {
     "name": "stdout",
     "output_type": "stream",
     "text": [
      "False\n",
      "False\n",
      "False\n",
      "False\n",
      "True\n",
      "False\n",
      "False\n",
      "True\n",
      "True\n",
      "False\n",
      "[False, False, False, False, True, False, False, True, True, False]\n"
     ]
    }
   ],
   "source": [
    "for i in range(9, -1, -1):\n",
    "    print(pirates[\"Skull and Crossbones\"][i])\n",
    "    \n",
    "#way 2\n",
    "print(pirates[\"Skull and Crossbones\"][::-1])"
   ]
  },
  {
   "cell_type": "code",
   "execution_count": 4,
   "metadata": {},
   "outputs": [
    {
     "name": "stdout",
     "output_type": "stream",
     "text": [
      "Blackbeard\n",
      "40\n",
      "False\n",
      "\n",
      "Anne Bonny\n",
      "24\n",
      "True\n",
      "\n",
      "Calico Jack\n",
      "37\n",
      "True\n",
      "\n",
      "Cheung Po Tsai\n",
      "39\n",
      "False\n",
      "\n",
      "Grace O'Malley\n",
      "73\n",
      "False\n",
      "\n",
      "Mary Read\n",
      "36\n",
      "True\n",
      "\n",
      "Sayyida al Hurra\n",
      "75\n",
      "False\n",
      "\n",
      "Ching Shih\n",
      "69\n",
      "False\n",
      "\n",
      "Sir Francis Drake\n",
      "56\n",
      "False\n",
      "\n",
      "Jean Lafittte\n",
      "46\n",
      "False\n",
      "\n"
     ]
    }
   ],
   "source": [
    "#loops through 0-9, each number is a pirate\n",
    "for num in range(0, 10, 1):\n",
    "    #loops through each key of the dictionary\n",
    "    for key in pirates:\n",
    "        #checks to see which key it is, as we only want some ranges\n",
    "        if(not(key == \"Sex\") and not(key == \"Height\")):\n",
    "            #prints the pirate data\n",
    "            print(pirates[key][num])\n",
    "    #makes a line break between pirates\n",
    "    print(\"\")"
   ]
  },
  {
   "cell_type": "code",
   "execution_count": 5,
   "metadata": {},
   "outputs": [
    {
     "name": "stdout",
     "output_type": "stream",
     "text": [
      "3\n"
     ]
    }
   ],
   "source": [
    "count = 0\n",
    "for i in range(0, 10):\n",
    "    if(pirates[\"Skull and Crossbones\"][i]):\n",
    "        count += 1\n",
    "        \n",
    "print(count)"
   ]
  },
  {
   "cell_type": "code",
   "execution_count": 6,
   "metadata": {},
   "outputs": [
    {
     "name": "stdout",
     "output_type": "stream",
     "text": [
      "Male Average Age of Death: 43.6 | Female Average Age of Death: 55.4\n"
     ]
    }
   ],
   "source": [
    "mCount = 0\n",
    "fCount = 0\n",
    "mTotal = 0\n",
    "fTotal = 0\n",
    "for i in range(0, 10):\n",
    "    if(pirates[\"Sex\"][i] == \"M\"):\n",
    "        mCount += 1\n",
    "        mTotal += pirates[\"Age at Death\"][i]\n",
    "    else:\n",
    "        fCount += 1\n",
    "        fTotal += pirates[\"Age at Death\"][i]\n",
    "mAve = mTotal / mCount\n",
    "fAve = fTotal / fCount\n",
    "print(\"Male Average Age of Death:\", mAve, \"| Female Average Age of Death:\", fAve)"
   ]
  },
  {
   "cell_type": "code",
   "execution_count": 7,
   "metadata": {},
   "outputs": [
    {
     "name": "stdout",
     "output_type": "stream",
     "text": [
      "20.0\n"
     ]
    }
   ],
   "source": [
    "sixft = 0\n",
    "for i in range(0, 10):\n",
    "    if(type(pirates[\"Height\"][i]) != str):\n",
    "        if(pirates[\"Height\"][i] >= 6.0):\n",
    "            sixft += 1\n",
    "percentage = (sixft / 10) * 100\n",
    "print(percentage)"
   ]
  },
  {
   "cell_type": "code",
   "execution_count": 9,
   "metadata": {},
   "outputs": [
    {
     "name": "stdout",
     "output_type": "stream",
     "text": [
      "Blackbeard\n",
      "Anne Bonny\n",
      "Calico Jack\n",
      "Cheung Po Tsai\n",
      "Grace O'Malley\n",
      "Mary Read\n",
      "Sayyida al Hurra\n",
      "Ching Shih\n",
      "Sir Francis Drake\n",
      "Jean Lafittte\n"
     ]
    }
   ],
   "source": [
    "for d1 in pirates[\"Pirate\"]:\n",
    "    print(d1)"
   ]
  },
  {
   "cell_type": "code",
   "execution_count": null,
   "metadata": {},
   "outputs": [],
   "source": []
  }
 ],
 "metadata": {
  "colab": {
   "provenance": []
  },
  "kernelspec": {
   "display_name": "Python 3 (ipykernel)",
   "language": "python",
   "name": "python3"
  },
  "language_info": {
   "codemirror_mode": {
    "name": "ipython",
    "version": 3
   },
   "file_extension": ".py",
   "mimetype": "text/x-python",
   "name": "python",
   "nbconvert_exporter": "python",
   "pygments_lexer": "ipython3",
   "version": "3.9.13"
  }
 },
 "nbformat": 4,
 "nbformat_minor": 1
}
