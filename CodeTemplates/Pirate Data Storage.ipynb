{
 "cells": [
  {
   "cell_type": "code",
   "execution_count": 1,
   "id": "532fd8ae",
   "metadata": {},
   "outputs": [],
   "source": [
    "pirateArray = [[\"Blackbeard\", \"M\", 40, 6.4, False], [\"Anne Bonny\", \"F\", 24, 5.6, True], [\"Calico Jack\", \"M\", 37, 5.6, True], [\"Cheung Po Tsai\", \"M\", 39, 5.3, False], [\"Grace O'Malley\", \"F\", 73, 5.0, False], [\"Mary Read\", \"F\", 36, 5.1, True], [\"Sayyida al Hurra\", \"F\", 75, \"Not Defined\", False], [\"Ching Shih\", \"F\", 69, 5.3, False], [\"Sir Francis Drake\", \"M\", 56, 5.5, False], [\"Jean Lafitte\", \"M\", 46, 6.2, False]]"
   ]
  },
  {
   "cell_type": "code",
   "execution_count": 2,
   "id": "c6ab2d07",
   "metadata": {},
   "outputs": [
    {
     "name": "stdout",
     "output_type": "stream",
     "text": [
      "['Blackbeard', 'M', 40, 6.4, False]\n",
      "['Anne Bonny', 'F', 24, 5.6, True]\n",
      "['Calico Jack', 'M', 37, 5.6, True]\n",
      "['Cheung Po Tsai', 'M', 39, 5.3, False]\n",
      "[\"Grace O'Malley\", 'F', 73, 5.0, False]\n",
      "['Mary Read', 'F', 36, 5.1, True]\n",
      "['Sayyida al Hurra', 'F', 75, 'Not Defined', False]\n",
      "['Ching Shih', 'F', 69, 5.3, False]\n",
      "['Sir Francis Drake', 'M', 56, 5.5, False]\n",
      "['Jean Lafitte', 'M', 46, 6.2, False]\n"
     ]
    }
   ],
   "source": [
    "for singlePirateArray in pirateArray:\n",
    "    print(singlePirateArray)"
   ]
  },
  {
   "cell_type": "code",
   "execution_count": 3,
   "id": "7ca7417b",
   "metadata": {},
   "outputs": [
    {
     "name": "stdout",
     "output_type": "stream",
     "text": [
      "['Blackbeard', 'M', 40, 6.4, False]\n"
     ]
    }
   ],
   "source": [
    "print(pirateArray[0])"
   ]
  },
  {
   "cell_type": "code",
   "execution_count": 4,
   "id": "a9403ace",
   "metadata": {},
   "outputs": [
    {
     "name": "stdout",
     "output_type": "stream",
     "text": [
      " False False False False True False False True True False\n"
     ]
    }
   ],
   "source": [
    "flags = \"\"\n",
    "i = 9\n",
    "for x in pirateArray:\n",
    "    flags = flags + \" \" + str(pirateArray[i][4])\n",
    "    i -= 1\n",
    "print(flags)\n",
    "    "
   ]
  },
  {
   "cell_type": "code",
   "execution_count": 5,
   "id": "9a7b56bb",
   "metadata": {},
   "outputs": [
    {
     "name": "stdout",
     "output_type": "stream",
     "text": [
      "['Blackbeard', 40, False]\n",
      "['Anne Bonny', 24, True]\n",
      "['Calico Jack', 37, True]\n",
      "['Cheung Po Tsai', 39, False]\n",
      "[\"Grace O'Malley\", 73, False]\n",
      "['Mary Read', 36, True]\n",
      "['Sayyida al Hurra', 75, False]\n",
      "['Ching Shih', 69, False]\n",
      "['Sir Francis Drake', 56, False]\n",
      "['Jean Lafitte', 46, False]\n"
     ]
    }
   ],
   "source": [
    "newPirateArray = []\n",
    "i = 0\n",
    "for pirate in pirateArray:\n",
    "    newArray = []\n",
    "    newArray.append(pirate[0])\n",
    "    newArray.append(pirate[2])\n",
    "    newArray.append(pirate[4])\n",
    "    i += 1\n",
    "    newPirateArray.append(newArray)\n",
    "for singlePirateArray in newPirateArray:\n",
    "    print(singlePirateArray)"
   ]
  }
 ],
 "metadata": {
  "kernelspec": {
   "display_name": "Python 3 (ipykernel)",
   "language": "python",
   "name": "python3"
  },
  "language_info": {
   "codemirror_mode": {
    "name": "ipython",
    "version": 3
   },
   "file_extension": ".py",
   "mimetype": "text/x-python",
   "name": "python",
   "nbconvert_exporter": "python",
   "pygments_lexer": "ipython3",
   "version": "3.9.13"
  }
 },
 "nbformat": 4,
 "nbformat_minor": 5
}
