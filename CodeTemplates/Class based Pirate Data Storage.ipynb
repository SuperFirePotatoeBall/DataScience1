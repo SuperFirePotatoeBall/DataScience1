{
 "cells": [
  {
   "cell_type": "code",
   "execution_count": 1,
   "id": "296dd321",
   "metadata": {},
   "outputs": [],
   "source": [
    "class pirate:\n",
    "    name = \"Undefined\"\n",
    "    gender = \"Undefined\"\n",
    "    age = None\n",
    "    height = None\n",
    "    flag = None\n",
    "    def __init__(self, iName, iGender, iAge, iHeight, iFlag):\n",
    "        self.name = iName\n",
    "        self.gender = iGender\n",
    "        self.age = iAge\n",
    "        self.height = iHeight\n",
    "        self.flag = iFlag\n",
    "        #i stands for init\n",
    "    def print(self):\n",
    "        print(\"Name: \", self.name, \" | Gender: \", self.gender, \" | Age at Death: \", self.age, \" | Height: \", self.height, \" | Skull and Cross Bones: \", self.flag)"
   ]
  },
  {
   "cell_type": "code",
   "execution_count": 2,
   "id": "cda52251",
   "metadata": {
    "scrolled": false
   },
   "outputs": [],
   "source": [
    "pirateArray = [\n",
    "    pirate('Blackbeard', 'M', 40, 6.4, False), \n",
    "    pirate('Anne Bonny', 'F', 24, 5.6, True), \n",
    "    pirate('Calico Jack', 'M', 37, 5.6, True),\n",
    "    pirate('Cheung Po Tsai', 'M', 39, 5.3, False),\n",
    "    pirate(\"Grace O'Malley\", 'F', 73, 5.0, False),\n",
    "    pirate('Mary Read', 'F', 36, 5.1, True),\n",
    "    pirate('Sayyida al Hurra', 'F', 75, 'Not Defined', False),\n",
    "    pirate('Ching Shih', 'F', 69, 5.3, False),\n",
    "    pirate('Sir Francis Drake', 'M', 56, 5.5, False),\n",
    "    pirate('Jean Lafitte', 'M', 46, 6.2, False)\n",
    "]"
   ]
  },
  {
   "cell_type": "code",
   "execution_count": 3,
   "id": "158dc91d",
   "metadata": {},
   "outputs": [
    {
     "name": "stdout",
     "output_type": "stream",
     "text": [
      "Name:  Blackbeard  | Gender:  M  | Age at Death:  40  | Height:  6.4  | Skull and Cross Bones:  False\n",
      "Name:  Anne Bonny  | Gender:  F  | Age at Death:  24  | Height:  5.6  | Skull and Cross Bones:  True\n",
      "Name:  Calico Jack  | Gender:  M  | Age at Death:  37  | Height:  5.6  | Skull and Cross Bones:  True\n",
      "Name:  Cheung Po Tsai  | Gender:  M  | Age at Death:  39  | Height:  5.3  | Skull and Cross Bones:  False\n",
      "Name:  Grace O'Malley  | Gender:  F  | Age at Death:  73  | Height:  5.0  | Skull and Cross Bones:  False\n",
      "Name:  Mary Read  | Gender:  F  | Age at Death:  36  | Height:  5.1  | Skull and Cross Bones:  True\n",
      "Name:  Sayyida al Hurra  | Gender:  F  | Age at Death:  75  | Height:  Not Defined  | Skull and Cross Bones:  False\n",
      "Name:  Ching Shih  | Gender:  F  | Age at Death:  69  | Height:  5.3  | Skull and Cross Bones:  False\n",
      "Name:  Sir Francis Drake  | Gender:  M  | Age at Death:  56  | Height:  5.5  | Skull and Cross Bones:  False\n",
      "Name:  Jean Lafitte  | Gender:  M  | Age at Death:  46  | Height:  6.2  | Skull and Cross Bones:  False\n"
     ]
    }
   ],
   "source": [
    "for pirate in pirateArray:\n",
    "    pirate.print()"
   ]
  },
  {
   "cell_type": "code",
   "execution_count": null,
   "id": "a47f9074",
   "metadata": {},
   "outputs": [],
   "source": []
  }
 ],
 "metadata": {
  "kernelspec": {
   "display_name": "Python 3 (ipykernel)",
   "language": "python",
   "name": "python3"
  },
  "language_info": {
   "codemirror_mode": {
    "name": "ipython",
    "version": 3
   },
   "file_extension": ".py",
   "mimetype": "text/x-python",
   "name": "python",
   "nbconvert_exporter": "python",
   "pygments_lexer": "ipython3",
   "version": "3.9.13"
  }
 },
 "nbformat": 4,
 "nbformat_minor": 5
}
