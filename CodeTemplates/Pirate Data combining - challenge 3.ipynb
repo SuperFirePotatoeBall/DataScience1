{
 "cells": [
  {
   "cell_type": "code",
   "execution_count": 1,
   "id": "f2f62a0a",
   "metadata": {},
   "outputs": [],
   "source": [
    "pirates = {\n",
    "    \"Pirate\":[\"Blackbeard\", \"Anne Bonny\", \"Calico Jack\", \"Cheung Po Tsai\", \"Grace O'Malley\", \"Mary Read\", \"Sayyida al Hurra\", \"Ching Shih\", \"Sir Francis Drake\", \"Jean Lafittte\"],\n",
    "    \"Sex\":[\"M\", \"F\", \"M\", \"M\", \"F\", \"F\", \"F\", \"F\", \"M\", \"M\"],\n",
    "    \"Age at Death\":[40, 24, 37, 39, 73, 36, 75, 69, 56, 46],\n",
    "    \"Height\":[6.4, 5.6, 5.6, 5.3, 5.0, 5.1, \"\", 5.3, 5.5, 6.2],\n",
    "    \"Skull and Crossbones\":[False, True, True, False, False, True, False, False, False, False]\n",
    "}"
   ]
  },
  {
   "cell_type": "code",
   "execution_count": 2,
   "id": "f6bfd745",
   "metadata": {},
   "outputs": [],
   "source": [
    "colPirates = {\n",
    "    \"Name\": [\"Edward Teach\", \"Anne Bonny\", \"John Rackham\", \"Cheung Po Tsai\", \"Grace O'Malley\", \"Mary Read\", \"Sayyida Al Hurra\", \"Zheng Yi Sao\", \"Francis Drake\", \"Jean Lafitte\"],\n",
    "    \"Years Active\": [\"1716 - 1718\", \"1718 - 1720\", \"1718 - 1720\", \"1798 - 1810\", \"1564 - 1595\", \"1708 - 1721\", \"1515 - 1545\", \"1801 - 1810\", \"1563 - 1596\", \"1810 - 1823\"],\n",
    "    \"Sailed\": [\"Caribbean\", \"Caribbean\", \"Caribbean\", \"South China Sea\", \"British Isles\", \"Caribbean\", \"Mediterranean\", \"South China Sea\", \"Caribbean\", \"Gulf of Mexico\"],\n",
    "    \"Alias\": [\"Blackbeard\", \"\", \"Calico Jack\", \"The Kid\", \"Queen of Ireland\", \"Mark\", \"Hakimat Titwan\", \"Ching Shih\", \"Sir Francis Drake\", \"Terror of the Gulf\"]\n",
    "} #The new pirate data colum oriented"
   ]
  },
  {
   "cell_type": "code",
   "execution_count": 4,
   "id": "8d3a7734",
   "metadata": {},
   "outputs": [
    {
     "data": {
      "text/plain": [
       "{'Name': ['Edward Teach',\n",
       "  'Anne Bonny',\n",
       "  'John Rackham',\n",
       "  'Cheung Po Tsai',\n",
       "  \"Grace O'Malley\",\n",
       "  'Mary Read',\n",
       "  'Sayyida Al Hurra',\n",
       "  'Zheng Yi Sao',\n",
       "  'Francis Drake',\n",
       "  'Jean Lafitte'],\n",
       " 'Years Active': ['1716 - 1718',\n",
       "  '1718 - 1720',\n",
       "  '1718 - 1720',\n",
       "  '1798 - 1810',\n",
       "  '1564 - 1595',\n",
       "  '1708 - 1721',\n",
       "  '1515 - 1545',\n",
       "  '1801 - 1810',\n",
       "  '1563 - 1596',\n",
       "  '1810 - 1823'],\n",
       " 'Sailed': ['Caribbean',\n",
       "  'Caribbean',\n",
       "  'Caribbean',\n",
       "  'South China Sea',\n",
       "  'British Isles',\n",
       "  'Caribbean',\n",
       "  'Mediterranean',\n",
       "  'South China Sea',\n",
       "  'Caribbean',\n",
       "  'Gulf of Mexico'],\n",
       " 'Alias': ['Blackbeard',\n",
       "  '',\n",
       "  'Calico Jack',\n",
       "  'The Kid',\n",
       "  'Queen of Ireland',\n",
       "  'Mark',\n",
       "  'Hakimat Titwan',\n",
       "  'Ching Shih',\n",
       "  'Sir Francis Drake',\n",
       "  'Terror of the Gulf'],\n",
       " 'Sex': ['M', 'F', 'M', 'M', 'F', 'F', 'F', 'F', 'M', 'M'],\n",
       " 'Age at Death': [40, 24, 37, 39, 73, 36, 75, 69, 56, 46],\n",
       " 'Height': [6.4, 5.6, 5.6, 5.3, 5.0, 5.1, '', 5.3, 5.5, 6.2],\n",
       " 'Skull and Crossbones': [False,\n",
       "  True,\n",
       "  True,\n",
       "  False,\n",
       "  False,\n",
       "  True,\n",
       "  False,\n",
       "  False,\n",
       "  False,\n",
       "  False]}"
      ]
     },
     "execution_count": 4,
     "metadata": {},
     "output_type": "execute_result"
    }
   ],
   "source": [
    "colPirates.update(pirates)\n",
    "fullPirates = colPirates\n",
    "fullPirates.pop(\"Pirate\")\n",
    "fullPirates"
   ]
  },
  {
   "cell_type": "code",
   "execution_count": null,
   "id": "ec4b43cd",
   "metadata": {},
   "outputs": [],
   "source": []
  }
 ],
 "metadata": {
  "kernelspec": {
   "display_name": "Python 3 (ipykernel)",
   "language": "python",
   "name": "python3"
  },
  "language_info": {
   "codemirror_mode": {
    "name": "ipython",
    "version": 3
   },
   "file_extension": ".py",
   "mimetype": "text/x-python",
   "name": "python",
   "nbconvert_exporter": "python",
   "pygments_lexer": "ipython3",
   "version": "3.9.13"
  }
 },
 "nbformat": 4,
 "nbformat_minor": 5
}
