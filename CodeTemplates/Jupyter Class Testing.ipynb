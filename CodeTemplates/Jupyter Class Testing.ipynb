{
 "cells": [
  {
   "cell_type": "code",
   "execution_count": 1,
   "id": "32fd5473",
   "metadata": {},
   "outputs": [],
   "source": [
    "class tester:\n",
    "    var = 0\n",
    "    def __init__(self, var):\n",
    "        self.var = var\n",
    "    def double(self):\n",
    "        self.var = self.var*2"
   ]
  },
  {
   "cell_type": "code",
   "execution_count": 2,
   "id": "285e57ef",
   "metadata": {},
   "outputs": [
    {
     "name": "stdout",
     "output_type": "stream",
     "text": [
      "3\n"
     ]
    }
   ],
   "source": [
    "testVar = tester(3)\n",
    "print(testVar.var)"
   ]
  },
  {
   "cell_type": "code",
   "execution_count": 3,
   "id": "7ed4984b",
   "metadata": {},
   "outputs": [
    {
     "name": "stdout",
     "output_type": "stream",
     "text": [
      "6\n"
     ]
    }
   ],
   "source": [
    "testVar = tester(3)\n",
    "testVar.double()\n",
    "print(testVar.var)"
   ]
  },
  {
   "cell_type": "code",
   "execution_count": null,
   "id": "04f72e08",
   "metadata": {},
   "outputs": [],
   "source": []
  }
 ],
 "metadata": {
  "kernelspec": {
   "display_name": "Python 3 (ipykernel)",
   "language": "python",
   "name": "python3"
  },
  "language_info": {
   "codemirror_mode": {
    "name": "ipython",
    "version": 3
   },
   "file_extension": ".py",
   "mimetype": "text/x-python",
   "name": "python",
   "nbconvert_exporter": "python",
   "pygments_lexer": "ipython3",
   "version": "3.9.13"
  }
 },
 "nbformat": 4,
 "nbformat_minor": 5
}
