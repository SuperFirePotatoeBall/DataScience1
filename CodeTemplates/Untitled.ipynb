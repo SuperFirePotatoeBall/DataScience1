{
 "cells": [
  {
   "cell_type": "code",
   "execution_count": 3,
   "id": "fbe32b43",
   "metadata": {},
   "outputs": [
    {
     "name": "stdout",
     "output_type": "stream",
     "text": [
      "Random Wikipedia Article Title: Stewart-Lakewood Center\n"
     ]
    }
   ],
   "source": [
    "import requests\n",
    "\n",
    "# Define the URL\n",
    "url = \"https://en.wikipedia.org/w/api.php?action=query&format=json&list=random&rnnamespace=0&rnlimit=1\"\n",
    "\n",
    "# Send the GET request\n",
    "response = requests.get(url)\n",
    "\n",
    "# Parse the JSON response\n",
    "data = response.json()\n",
    "\n",
    "# Extract the title of the random article\n",
    "random_article_title = data['query']['random'][0]['title']\n",
    "\n",
    "# Print the title of the random article\n",
    "print(\"Random Wikipedia Article Title:\", random_article_title)"
   ]
  },
  {
   "cell_type": "code",
   "execution_count": null,
   "id": "79bc8413",
   "metadata": {},
   "outputs": [],
   "source": []
  }
 ],
 "metadata": {
  "kernelspec": {
   "display_name": "Python 3 (ipykernel)",
   "language": "python",
   "name": "python3"
  },
  "language_info": {
   "codemirror_mode": {
    "name": "ipython",
    "version": 3
   },
   "file_extension": ".py",
   "mimetype": "text/x-python",
   "name": "python",
   "nbconvert_exporter": "python",
   "pygments_lexer": "ipython3",
   "version": "3.9.13"
  }
 },
 "nbformat": 4,
 "nbformat_minor": 5
}
