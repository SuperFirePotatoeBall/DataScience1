{
 "cells": [
  {
   "cell_type": "code",
   "execution_count": 1,
   "id": "2ee5cb5f",
   "metadata": {},
   "outputs": [
    {
     "name": "stdout",
     "output_type": "stream",
     "text": [
      "10\n",
      "10\n",
      "50\n",
      "50\n"
     ]
    }
   ],
   "source": [
    "class MyClass:\n",
    "    class_variable = 10  # This is a class variable\n",
    "\n",
    "    def __init__(self, instance_variable):\n",
    "        self.instance_variable = instance_variable\n",
    "\n",
    "    def access_class_variable(self):\n",
    "        # Accessing the class variable within a method\n",
    "        return MyClass.class_variable\n",
    "\n",
    "    def modify_class_variable(self, new_value):\n",
    "        # Modifying the class variable within a method\n",
    "        MyClass.class_variable = new_value\n",
    "\n",
    "# Creating instances of MyClass\n",
    "obj1 = MyClass(20)\n",
    "obj2 = MyClass(30)\n",
    "\n",
    "# Accessing and modifying the class variable using instances\n",
    "print(obj1.access_class_variable())  # Output: 10\n",
    "print(obj2.access_class_variable())  # Output: 10\n",
    "\n",
    "obj1.modify_class_variable(50)  # Modifying the class variable\n",
    "\n",
    "print(obj1.access_class_variable())  # Output: 50 (modified value)\n",
    "print(obj2.access_class_variable())  # Output: 50 (shared value)"
   ]
  },
  {
   "cell_type": "code",
   "execution_count": null,
   "id": "c0bf94be",
   "metadata": {},
   "outputs": [],
   "source": []
  }
 ],
 "metadata": {
  "kernelspec": {
   "display_name": "Python 3 (ipykernel)",
   "language": "python",
   "name": "python3"
  },
  "language_info": {
   "codemirror_mode": {
    "name": "ipython",
    "version": 3
   },
   "file_extension": ".py",
   "mimetype": "text/x-python",
   "name": "python",
   "nbconvert_exporter": "python",
   "pygments_lexer": "ipython3",
   "version": "3.9.13"
  }
 },
 "nbformat": 4,
 "nbformat_minor": 5
}
