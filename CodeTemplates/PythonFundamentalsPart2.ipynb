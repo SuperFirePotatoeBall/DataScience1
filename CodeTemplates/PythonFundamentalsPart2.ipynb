{
 "cells": [
  {
   "cell_type": "code",
   "execution_count": 1,
   "id": "6b7971e5",
   "metadata": {},
   "outputs": [],
   "source": [
    "colPirates = {\n",
    "    \"Name\": [\"Edward Teach\", \"Anne Bonny\", \"John Rackham\", \"Cheung Po Tsai\", \"Grace O'Malley\", \"Mary Read\", \"Sayyida Al Hurra\", \"Zheng Yi Sao\", \"Francis Drake\", \"Jean Lafitte\"],\n",
    "    \"Years Active\": [\"1716 - 1718\", \"1718 - 1720\", \"1718 - 1720\", \"1798 - 1810\", \"1564 - 1595\", \"1708 - 1721\", \"1515 - 1545\", \"1801 - 1810\", \"1563 - 1596\", \"1810 - 1823\"],\n",
    "    \"Sailed\": [\"Caribbean\", \"Caribbean\", \"Caribbean\", \"South China Sea\", \"British Isles\", \"Caribbean\", \"Mediterranean\", \"South China Sea\", \"Caribbean\", \"Gulf of Mexico\"],\n",
    "    \"Alias\": [\"Blackbeard\", \"\", \"Calico Jack\", \"The Kid\", \"Queen of Ireland\", \"Mark\", \"Hakimat Titwan\", \"Ching Shih\", \"Sir Francis Drake\", \"Terror of the Gulf\"]\n",
    "} #The new pirate data colum oriented"
   ]
  },
  {
   "cell_type": "code",
   "execution_count": 2,
   "id": "2775bd60",
   "metadata": {},
   "outputs": [],
   "source": [
    "rowPirates = {\n",
    "    'Edward Teach': ['1716 - 1718', 'Caribbean', 'Blackbeard'],\n",
    "    'Anne Bonny': ['1718 - 1720', 'Caribbean', ''],\n",
    "    'John Rackham': ['1718 - 1720', 'Caribbean', 'Calico Jack'],\n",
    "    'Cheung Po Tsai': ['1798 - 1810', 'South China Sea', 'The Kid'], #who had the audacity to started calling Cheung \"The Kid\" \n",
    "    \"Grace O'Malley\": ['1564 - 1595', 'British Isles', 'Queen of Ireland'],\n",
    "    'Mary Read': ['1708 - 1721', 'Caribbean', 'Mark'], #if was a pirate, I would hate to have such a boring nickname as \"Mark\". \n",
    "    #Imagine people talking about the great pirates of \"Blackbeard,\" \"Terror of the Gulf,\", and \"Mark\"\n",
    "    'Sayyida Al Hurra': ['1515 - 1545', 'Mediterranean', 'Hakimat Titwan'],\n",
    "    'Zheng Yi Sao': ['1801 - 1810', 'South China Sea', 'Ching Shih'],\n",
    "    'Francis Drake': ['1563 - 1596', 'Caribbean', 'Sir Francis Drake'],\n",
    "    'Jean Lafitte': ['1810 - 1823', 'Gulf of Mexico', 'Terror of the Gulf']\n",
    "} #The new pirate data row oriented"
   ]
  },
  {
   "cell_type": "code",
   "execution_count": 3,
   "id": "7eefb5e7",
   "metadata": {},
   "outputs": [],
   "source": [
    "#Trying to make rowPirates in a fancy way\n",
    "rowPirates2 = {\n",
    "    \n",
    "}\n",
    "rowPirates2['Edward Teach'] = ['1716 - 1718', 'Caribbean', 'Blackbeard']\n",
    "for i in range(len(colPirates[\"Name\"])):\n",
    "        rowPirates2[colPirates[\"Name\"][i]] = [colPirates[\"Years Active\"][i], colPirates[\"Sailed\"][i], colPirates[\"Alias\"][i]]"
   ]
  },
  {
   "cell_type": "code",
   "execution_count": 10,
   "id": "fb014cc5",
   "metadata": {},
   "outputs": [
    {
     "name": "stdout",
     "output_type": "stream",
     "text": [
      "There were 4 pirates active in the Caribbean in the 18th century\n"
     ]
    }
   ],
   "source": [
    "#py challenge 2-1\n",
    "count = 0 #num of pirates who were active\n",
    "for i in range(len(colPirates[\"Years Active\"])): #loops through all years active values\n",
    "    if(colPirates[\"Sailed\"][i] == \"Caribbean\"):\n",
    "        if((int(colPirates[\"Years Active\"][i][0:4:1]) < 1800 and int(colPirates[\"Years Active\"][i][0:4:1]) > 1699)\n",
    "            or (int(colPirates[\"Years Active\"][i][7::]) < 1800 and int(colPirates[\"Years Active\"][i][7::]) > 1699)): #checks to see if either value is within 1699-1800\n",
    "            count += 1\n",
    "        \n",
    "print(\"There were\", count, \"pirates active in the Caribbean in the 18th century\")"
   ]
  },
  {
   "cell_type": "code",
   "execution_count": 13,
   "id": "dbb25b9c",
   "metadata": {},
   "outputs": [
    {
     "name": "stdout",
     "output_type": "stream",
     "text": [
      "The Highest years active is 33 which is the length of Francis Drake's Career\n"
     ]
    }
   ],
   "source": [
    "#py challenge 2-2\n",
    "highest = 0 #highest score\n",
    "personIndex = -1 #perosn who holds the high score\n",
    "for i in range(len(colPirates[\"Years Active\"])): #loops through all years active values\n",
    "    diff = (int(colPirates[\"Years Active\"][i][7::]) - int(colPirates[\"Years Active\"][i][0:4:1])) #calculates the difference in the start and end of their career\n",
    "    if (diff > highest): #if the new difference is higher than the highest, it sets the values to the new values\n",
    "        highest = diff\n",
    "        personIndex = i\n",
    "print(\"The Highest years active is\", highest, \"which is the length of\", colPirates[\"Name\"][personIndex] + \"'s Career\")"
   ]
  },
  {
   "cell_type": "code",
   "execution_count": 6,
   "id": "d02336c2",
   "metadata": {},
   "outputs": [
    {
     "name": "stdout",
     "output_type": "stream",
     "text": [
      "The average years active is 14.7\n"
     ]
    }
   ],
   "source": [
    "#py challenge 2-3\n",
    "total = 0 #total years pirates were active\n",
    "totalPirates = len(colPirates[\"Years Active\"]) #the number of values in years active\n",
    "for i in range(totalPirates): #loops through all years activesvalues\n",
    "    diff = (int(colPirates[\"Years Active\"][i][7::]) - int(colPirates[\"Years Active\"][i][0:4:1])) #calculates the difference in the start and end of their career\n",
    "    total += diff #adds the differnce to the total\n",
    "avg = total / totalPirates #calculates the average\n",
    "print(\"The average years active is\", avg)"
   ]
  },
  {
   "cell_type": "code",
   "execution_count": null,
   "id": "19a9bfee",
   "metadata": {},
   "outputs": [],
   "source": [
    "pirates = {\n",
    "    \"Pirate\":[\"Blackbeard\", \"Anne Bonny\", \"Calico Jack\", \"Cheung Po Tsai\", \"Grace O'Malley\", \"Mary Read\", \"Sayyida al Hurra\", \"Ching Shih\", \"Sir Francis Drake\", \"Jean Lafittte\"],\n",
    "    \"Sex\":[\"M\", \"F\", \"M\", \"M\", \"F\", \"F\", \"F\", \"F\", \"M\", \"M\"],\n",
    "    \"Age at Death\":[40, 24, 37, 39, 73, 36, 75, 69, 56, 46],\n",
    "    \"Height\":[6.4, 5.6, 5.6, 5.3, 5.0, 5.1, \"\", 5.3, 5.5, 6.2],\n",
    "    \"Skull and Crossbones\":[False, True, True, False, False, True, False, False, False, False]\n",
    "}\n",
    "\n",
    "colPirates = {\n",
    "    \"Name\": [\"Edward Teach\", \"Anne Bonny\", \"John Rackham\", \"Cheung Po Tsai\", \"Grace O'Malley\", \"Mary Read\", \"Sayyida Al Hurra\", \"Zheng Yi Sao\", \"Francis Drake\", \"Jean Lafitte\"],\n",
    "    \"Years Active\": [\"1716 - 1718\", \"1718 - 1720\", \"1718 - 1720\", \"1798 - 1810\", \"1564 - 1595\", \"1708 - 1721\", \"1515 - 1545\", \"1801 - 1810\", \"1563 - 1596\", \"1810 - 1823\"],\n",
    "    \"Sailed\": [\"Caribbean\", \"Caribbean\", \"Caribbean\", \"South China Sea\", \"British Isles\", \"Caribbean\", \"Mediterranean\", \"South China Sea\", \"Caribbean\", \"Gulf of Mexico\"],\n",
    "    \"Alias\": [\"Blackbeard\", \"\", \"Calico Jack\", \"The Kid\", \"Queen of Ireland\", \"Mark\", \"Hakimat Titwan\", \"Ching Shih\", \"Sir Francis Drake\", \"Terror of the Gulf\"]\n",
    "} #The new pirate data colum oriented\n",
    "\n",
    "colPirates.update(pirates)\n",
    "fullPirates = colPirates\n",
    "fullPirates.pop(\"Pirate\")\n",
    "fullPirates\n",
    "\n"
   ]
  },
  {
   "cell_type": "code",
   "execution_count": null,
   "id": "ebd4f999",
   "metadata": {},
   "outputs": [],
   "source": [
    "pirates = {\n",
    "    \"Pirate\":[\"Blackbeard\", \"Anne Bonny\", \"Calico Jack\", \"Cheung Po Tsai\", \"Grace O'Malley\", \"Mary Read\", \"Sayyida al Hurra\", \"Ching Shih\", \"Sir Francis Drake\", \"Jean Lafittte\"],\n",
    "    \"Sex\":[\"M\", \"F\", \"M\", \"M\", \"F\", \"F\", \"F\", \"F\", \"M\", \"M\"],\n",
    "    \"Age at Death\":[40, 24, 37, 39, 73, 36, 75, 69, 56, 46],\n",
    "    \"Height\":[6.4, 5.6, 5.6, 5.3, 5.0, 5.1, \"\", 5.3, 5.5, 6.2],\n",
    "    \"Skull and Crossbones\":[False, True, True, False, False, True, False, False, False, False]\n",
    "}\n",
    "\n",
    "colPirates = {\n",
    "    \"Name\": [\"Edward Teach\", \"Anne Bonny\", \"John Rackham\", \"Cheung Po Tsai\", \"Grace O'Malley\", \"Mary Read\", \"Sayyida Al Hurra\", \"Zheng Yi Sao\", \"Francis Drake\", \"Jean Lafitte\"],\n",
    "    \"Years Active\": [\"1716 - 1718\", \"1718 - 1720\", \"1718 - 1720\", \"1798 - 1810\", \"1564 - 1595\", \"1708 - 1721\", \"1515 - 1545\", \"1801 - 1810\", \"1563 - 1596\", \"1810 - 1823\"],\n",
    "    \"Sailed\": [\"Caribbean\", \"Caribbean\", \"Caribbean\", \"South China Sea\", \"British Isles\", \"Caribbean\", \"Mediterranean\", \"South China Sea\", \"Caribbean\", \"Gulf of Mexico\"],\n",
    "    \"Alias\": [\"Blackbeard\", \"\", \"Calico Jack\", \"The Kid\", \"Queen of Ireland\", \"Mark\", \"Hakimat Titwan\", \"Ching Shih\", \"Sir Francis Drake\", \"Terror of the Gulf\"]\n",
    "} #The new pirate data colum oriented\n",
    "\n",
    "colPirates.update(pirates)\n",
    "fullPirates = colPirates\n",
    "fullPirates.pop(\"Pirate\")\n",
    "fullPirates"
   ]
  }
 ],
 "metadata": {
  "kernelspec": {
   "display_name": "Python 3 (ipykernel)",
   "language": "python",
   "name": "python3"
  },
  "language_info": {
   "codemirror_mode": {
    "name": "ipython",
    "version": 3
   },
   "file_extension": ".py",
   "mimetype": "text/x-python",
   "name": "python",
   "nbconvert_exporter": "python",
   "pygments_lexer": "ipython3",
   "version": "3.9.13"
  }
 },
 "nbformat": 4,
 "nbformat_minor": 5
}
