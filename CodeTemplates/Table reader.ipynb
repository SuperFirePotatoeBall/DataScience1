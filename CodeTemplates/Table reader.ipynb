{
 "cells": [
  {
   "cell_type": "code",
   "execution_count": 1,
   "id": "c8413f11",
   "metadata": {},
   "outputs": [],
   "source": [
    "import pandas as pd\n",
    "import seaborn as sns\n",
    "import requests\n",
    "from bs4 import BeautifulSoup\n",
    "from collections import Counter"
   ]
  },
  {
   "cell_type": "code",
   "execution_count": 2,
   "id": "fb06df0d",
   "metadata": {},
   "outputs": [],
   "source": [
    "starturl = 'https://en.wikipedia.org/wiki/List_of_national_parks' \n",
    "response = requests.get(starturl)\n",
    "html_content = response.text\n",
    "soup = BeautifulSoup(html_content, 'html.parser')"
   ]
  },
  {
   "cell_type": "code",
   "execution_count": 3,
   "id": "bf2d3d9d",
   "metadata": {},
   "outputs": [],
   "source": [
    "# # Assuming you have an HTML document as a string or from a file\n",
    "# html = \"\"\"\n",
    "# <table>\n",
    "#     <tr>\n",
    "#         <th>Header 1</th>\n",
    "#         <th>Header 2</th>\n",
    "#     </tr>\n",
    "#     <tr>\n",
    "#         <td></td>\n",
    "#         <td></td>\n",
    "#         <td>Data 3</td>\n",
    "#         <td>Data 4</td>\n",
    "#         <td>potato</td>\n",
    "#         <td>Data 6</td>\n",
    "#         <td>Data 7</td>\n",
    "#         <td>Data 8</td>\n",
    "#         <td>Data 9</td>\n",
    "#         <td>Data 10</td>\n",
    "#         <td>Data 11</td>\n",
    "#         <td>Data 12</td>\n",
    "#     </tr>\n",
    "#     <tr>\n",
    "#         <td>Data 1</td>\n",
    "#         <td>Data 2</td>\n",
    "#         <td>Data 3</td>\n",
    "#         <td>Data 4</td>\n",
    "#         <td>POTOAOTOTOTOTOTOOTOTOTOOTOT!!1!!!!</td>\n",
    "#         <td>Data 6</td>\n",
    "#         <td>Data 7</td>\n",
    "#         <td>Data 8</td>\n",
    "#         <td>Data 9</td>\n",
    "#         <td>Data 10</td>\n",
    "#         <td>Data 11</td>\n",
    "#         <td>Data 12</td>\n",
    "#     </tr>\n",
    "# </table>\n",
    "# \"\"\"\n",
    "\n",
    "# # Parse the HTML content\n",
    "# soup = BeautifulSoup(html, 'html.parser')\n",
    "\n",
    "# # Find the table element\n",
    "# table = soup.find('table')\n",
    "\n",
    "# # Loop through rows and cells in the table\n",
    "# for row in table.find_all('tr'):\n",
    "#     cells = row.find_all('td')\n",
    "#     iter=0\n",
    "#     for cell in cells:\n",
    "#         iter +=1\n",
    "#         if (iter == 5):\n",
    "#             print(cell.text)\n",
    "\n",
    "# # You can also extract headers if needed\n",
    "# headers = [header.text for header in table.find('tr').find_all('th')]\n",
    "# print(headers)"
   ]
  },
  {
   "cell_type": "code",
   "execution_count": 4,
   "id": "08af434c",
   "metadata": {},
   "outputs": [],
   "source": [
    "wikiUrl = 'https://en.wikipedia.org/wiki/List_of_national_parks' \n",
    "response = requests.get(wikiUrl)\n",
    "html_content = response.text\n",
    "soup = BeautifulSoup(html_content, 'html.parser')\n",
    "\n",
    "tables = soup.find_all('table')\n",
    "NationalParkArray = {\n",
    "    \"Contries\": [],\n",
    "    \"Num of Parks\": []\n",
    "    }\n",
    "# Loop through rows and cells in the table\n",
    "for table in tables:\n",
    "    for row in table.find_all('tr'):\n",
    "        cells = row.find_all('td')\n",
    "        iter=0\n",
    "        for cell in cells:\n",
    "            iter +=1\n",
    "            if (iter == 1):\n",
    "                NationalParkArray[\"Contries\"].append(cell.text)\n",
    "            elif (iter == 3):\n",
    "                NationalParkArray[\"Num of Parks\"].append(cell.text)"
   ]
  },
  {
   "cell_type": "code",
   "execution_count": 5,
   "id": "f212164c",
   "metadata": {},
   "outputs": [],
   "source": [
    "for iter in range(len(NationalParkArray[\"Contries\"])):\n",
    "    if(NationalParkArray[\"Num of Parks\"][iter] == ''):\n",
    "        NationalParkArray[\"Num of Parks\"][iter] = 0"
   ]
  },
  {
   "cell_type": "code",
   "execution_count": 11,
   "id": "0082e7b1",
   "metadata": {},
   "outputs": [
    {
     "name": "stdout",
     "output_type": "stream",
     "text": [
      "{'Contries': ['Australia', 'Thailand', 'India', 'Brazil[10]', 'Mexico', 'United States', 'Colombia', 'Indonesia', 'Israel', 'Russia', 'Russia', 'Ukraine', 'Norway', 'Canada', 'Venezuela', 'Turkey', 'Turkey', 'Chile[11]', 'Finland', 'Bahamas', 'Argentina[9]', 'Philippines', 'Japan', 'Vietnam', 'Sweden', 'Malaysia', 'Mongolia', 'Costa Rica', 'Dominican Republic', 'Zambia', 'Cameroon', 'Madagascar', 'Pakistan', 'Sri Lanka', 'Italy', 'Kenya', 'Iran', 'Poland', 'Ethiopia', 'Tanzania[2]', 'South Korea', 'Guatemala', 'South Africa', 'Netherlands', 'Namibia', 'Bangladesh', 'Belize', 'Honduras', 'Tunisia', 'Germany', 'Spain', 'Haiti', 'Panama', 'Greece', 'United Kingdom', 'Paraguay', 'Peru', 'Albania', 'Romania', 'British Virgin Islands', 'Cuba', 'Gabon', 'Cambodia', 'Kazakhstan', 'Kyrgyzstan', 'Bolivia', 'New Zealand', 'Morocco', 'Nepal', 'Ecuador', 'Algeria', 'Zimbabwe', 'Azerbaijan', \"People's Republic of China\", 'Georgia', 'Georgia', 'Turks and Caicos Island', 'Uganda', 'France[note 2]', 'Hungary', 'Democratic Republic of the Congo', \"Côte d'Ivoire\", 'Seychelles', 'Myanmar', 'North Korea', 'Republic of China (Taiwan)', 'Slovakia', 'Angola', 'Liberia', 'Nigeria', 'Sierra Leone', 'Croatia', 'El Salvador', 'Papua New Guinea', 'Ghana', 'Mozambique', 'Austria', 'Serbia', 'Uruguay', 'Comoros', 'Guinea-Bissau', 'Libya', 'Malawi', 'Senegal', 'Somalia', 'South Sudan', 'Belgium', 'Estonia', 'Ireland', 'Antigua and Barbuda', 'Central African Republic', 'Republic of the Congo', 'Egypt', 'Gambia', 'Bhutan', 'Denmark[note 1]', 'Lithuania', 'Montenegro', 'Saint Kitts & Nevis', 'Samoa', 'Botswana', 'Burkina Faso', 'Chad', 'Mali', 'Sudan', 'Armenia', 'Lebanon', 'United Arab Emirates', 'Uzbekistan', 'Belarus', 'Bosnia and Herzegovina', 'Czech Republic', 'Latvia', 'Tonga', 'Burundi', 'Djibouti', 'Equatorial Guinea', 'Guinea', 'Mauritius', 'Rwanda', 'Togo', 'Saudi Arabia', 'Bulgaria', 'Iceland', 'North Macedonia', 'Dominica', 'Grenada', 'Nicaragua', 'Benin', 'Eritrea', 'Lesotho', 'Mauritania', 'Afghanistan', 'Brunei', 'Iraq', 'Timor-Leste', 'Yemen', 'Kosovo', 'Curacao', 'Saint Lucia', 'Ascension Island[1]', 'Cape Verde', 'Eswatini', 'Niger', 'Sao Tome and Principe', 'Oman', 'Tajikistan', 'Malta', 'Moldova\\n', 'Portugal', 'Slovenia', 'Switzerland', 'Aruba', 'Barbados', 'Jamaica', 'Saint Vincent and the Grenadines', 'Trinidad & Tobago', 'US Virgin Islands', 'Guyana', 'American Samoa', 'Cook Islands', 'Fiji', 'Solomon Islands', 'Jordan', 'Maldives', 'Qatar'], 'Num of Parks': ['685', '147', '116', '75', '67', '63', '60', '56', '49', '48', '48', '48', '47', '47', '46', '43', '43', '41', '40', '40', '37', '36', '34', '32', '30', '29', '29', '29', '29', '28', '27', '26', '26', '26', '25', '24', '23', '23', '22', '22', '22', '22', '21', '21', '20', '18', '18', '18', '17', '16', '16', '16', '16', '15', '15', '15', '15', '14', '14', '14', '14', '13', '13', '13', '13', '13', '13', '12', '12', '12', '11', '11', '11', '11', '11', '11', '11', '10', '10', '10', '9', '9', '9', '9', '9', '9', '9', '8', '8', '8', '8', '8', '8', '8', '7', '7', '7', '7', '7', '6', '6', '6', '6', '6', '6', '6', '6', '6', '6', '6', '5', '5', '5', '5', '5', '5', '5', '5', '5', '5', '4', '4', '4', '4', '4', '4', '4', '4', '4', '4', '4', '4', '4', '4', '3', '3', '3', '3', '3', '3', '3', '3', '3', '3', '3', '3', '3', '3', '2', '2', '2', '2', '2', '2', '2', '2', '2', '2', '2', '2', '1', '1', '1', '1', '1', '1', '1', '1', '1\\n', '1', '1', '1', '1', '1', '1', '1', '1', '1', '1', '1', '1', '1', '1', 0, 0, 0]}\n"
     ]
    }
   ],
   "source": [
    "#insertion sort\n",
    "sortedDict = {\n",
    "    \"Contries\": [],\n",
    "    \"Num of Parks\": []\n",
    "}\n",
    "for iter in range(len(NationalParkArray[\"Contries\"])):\n",
    "    highestIndex = -1\n",
    "    highest = -1\n",
    "    for iter in range(len(NationalParkArray[\"Contries\"])):\n",
    "        if(int(NationalParkArray[\"Num of Parks\"][iter]) > highest):\n",
    "            highest = int(NationalParkArray[\"Num of Parks\"][iter])\n",
    "            highestIndex = iter\n",
    "    sortedDict[\"Contries\"].append(NationalParkArray[\"Contries\"][highestIndex])\n",
    "    sortedDict[\"Num of Parks\"].append(NationalParkArray[\"Num of Parks\"][highestIndex])\n",
    "    NationalParkArray[\"Num of Parks\"].pop(highestIndex)\n",
    "    NationalParkArray[\"Contries\"].pop(highestIndex)\n",
    "\n",
    "    \n",
    "print(sortedDict)"
   ]
  },
  {
   "cell_type": "code",
   "execution_count": null,
   "id": "17be208f",
   "metadata": {},
   "outputs": [],
   "source": []
  }
 ],
 "metadata": {
  "kernelspec": {
   "display_name": "Python 3 (ipykernel)",
   "language": "python",
   "name": "python3"
  },
  "language_info": {
   "codemirror_mode": {
    "name": "ipython",
    "version": 3
   },
   "file_extension": ".py",
   "mimetype": "text/x-python",
   "name": "python",
   "nbconvert_exporter": "python",
   "pygments_lexer": "ipython3",
   "version": "3.9.13"
  }
 },
 "nbformat": 4,
 "nbformat_minor": 5
}
