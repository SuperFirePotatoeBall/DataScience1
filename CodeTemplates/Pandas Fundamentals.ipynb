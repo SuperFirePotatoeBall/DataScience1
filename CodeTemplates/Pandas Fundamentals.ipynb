{
 "cells": [
  {
   "cell_type": "code",
   "execution_count": 1,
   "id": "c3ff1526",
   "metadata": {},
   "outputs": [],
   "source": [
    "import pandas as pd"
   ]
  },
  {
   "cell_type": "code",
   "execution_count": 2,
   "id": "b8f0b695",
   "metadata": {},
   "outputs": [],
   "source": [
    "data = pd.read_csv(r\"C:\\Users\\aclark48\\Desktop\\DataScience1\\Data files\\pirates.csv\")"
   ]
  },
  {
   "cell_type": "code",
   "execution_count": 3,
   "id": "f30b2707",
   "metadata": {},
   "outputs": [
    {
     "data": {
      "text/html": [
       "<div>\n",
       "<style scoped>\n",
       "    .dataframe tbody tr th:only-of-type {\n",
       "        vertical-align: middle;\n",
       "    }\n",
       "\n",
       "    .dataframe tbody tr th {\n",
       "        vertical-align: top;\n",
       "    }\n",
       "\n",
       "    .dataframe thead th {\n",
       "        text-align: right;\n",
       "    }\n",
       "</style>\n",
       "<table border=\"1\" class=\"dataframe\">\n",
       "  <thead>\n",
       "    <tr style=\"text-align: right;\">\n",
       "      <th></th>\n",
       "      <th>id</th>\n",
       "      <th>sex</th>\n",
       "      <th>age</th>\n",
       "      <th>height</th>\n",
       "      <th>weight</th>\n",
       "      <th>headband</th>\n",
       "      <th>college</th>\n",
       "      <th>tattoos</th>\n",
       "      <th>tchests</th>\n",
       "      <th>parrots</th>\n",
       "      <th>favorite.pirate</th>\n",
       "      <th>sword.type</th>\n",
       "      <th>eyepatch</th>\n",
       "      <th>sword.time</th>\n",
       "      <th>beard.length</th>\n",
       "      <th>fav.pixar</th>\n",
       "      <th>grogg</th>\n",
       "    </tr>\n",
       "  </thead>\n",
       "  <tbody>\n",
       "    <tr>\n",
       "      <th>0</th>\n",
       "      <td>1</td>\n",
       "      <td>male</td>\n",
       "      <td>28.0</td>\n",
       "      <td>173.11</td>\n",
       "      <td>70.5</td>\n",
       "      <td>yes</td>\n",
       "      <td>JSSFP</td>\n",
       "      <td>9</td>\n",
       "      <td>0</td>\n",
       "      <td>0</td>\n",
       "      <td>Jack Sparrow</td>\n",
       "      <td>cutlass</td>\n",
       "      <td>1</td>\n",
       "      <td>0.58</td>\n",
       "      <td>16</td>\n",
       "      <td>Monsters, Inc.</td>\n",
       "      <td>11</td>\n",
       "    </tr>\n",
       "    <tr>\n",
       "      <th>1</th>\n",
       "      <td>2</td>\n",
       "      <td>male</td>\n",
       "      <td>31.0</td>\n",
       "      <td>209.25</td>\n",
       "      <td>105.6</td>\n",
       "      <td>yes</td>\n",
       "      <td>JSSFP</td>\n",
       "      <td>9</td>\n",
       "      <td>11</td>\n",
       "      <td>0</td>\n",
       "      <td>Jack Sparrow</td>\n",
       "      <td>cutlass</td>\n",
       "      <td>0</td>\n",
       "      <td>1.11</td>\n",
       "      <td>21</td>\n",
       "      <td>WALL-E</td>\n",
       "      <td>9</td>\n",
       "    </tr>\n",
       "    <tr>\n",
       "      <th>2</th>\n",
       "      <td>3</td>\n",
       "      <td>male</td>\n",
       "      <td>26.0</td>\n",
       "      <td>169.95</td>\n",
       "      <td>77.1</td>\n",
       "      <td>yes</td>\n",
       "      <td>CCCC</td>\n",
       "      <td>10</td>\n",
       "      <td>10</td>\n",
       "      <td>1</td>\n",
       "      <td>Jack Sparrow</td>\n",
       "      <td>cutlass</td>\n",
       "      <td>1</td>\n",
       "      <td>1.44</td>\n",
       "      <td>19</td>\n",
       "      <td>Inside Out</td>\n",
       "      <td>7</td>\n",
       "    </tr>\n",
       "    <tr>\n",
       "      <th>3</th>\n",
       "      <td>4</td>\n",
       "      <td>female</td>\n",
       "      <td>31.0</td>\n",
       "      <td>144.29</td>\n",
       "      <td>58.5</td>\n",
       "      <td>no</td>\n",
       "      <td>JSSFP</td>\n",
       "      <td>2</td>\n",
       "      <td>0</td>\n",
       "      <td>2</td>\n",
       "      <td>Jack Sparrow</td>\n",
       "      <td>scimitar</td>\n",
       "      <td>1</td>\n",
       "      <td>36.11</td>\n",
       "      <td>2</td>\n",
       "      <td>Inside Out</td>\n",
       "      <td>9</td>\n",
       "    </tr>\n",
       "    <tr>\n",
       "      <th>4</th>\n",
       "      <td>5</td>\n",
       "      <td>female</td>\n",
       "      <td>41.0</td>\n",
       "      <td>157.85</td>\n",
       "      <td>58.4</td>\n",
       "      <td>yes</td>\n",
       "      <td>JSSFP</td>\n",
       "      <td>9</td>\n",
       "      <td>6</td>\n",
       "      <td>4</td>\n",
       "      <td>Hook</td>\n",
       "      <td>cutlass</td>\n",
       "      <td>1</td>\n",
       "      <td>0.11</td>\n",
       "      <td>0</td>\n",
       "      <td>Inside Out</td>\n",
       "      <td>14</td>\n",
       "    </tr>\n",
       "  </tbody>\n",
       "</table>\n",
       "</div>"
      ],
      "text/plain": [
       "   id     sex   age  height  weight headband college  tattoos  tchests  \\\n",
       "0   1    male  28.0  173.11    70.5      yes   JSSFP        9        0   \n",
       "1   2    male  31.0  209.25   105.6      yes   JSSFP        9       11   \n",
       "2   3    male  26.0  169.95    77.1      yes    CCCC       10       10   \n",
       "3   4  female  31.0  144.29    58.5       no   JSSFP        2        0   \n",
       "4   5  female  41.0  157.85    58.4      yes   JSSFP        9        6   \n",
       "\n",
       "   parrots favorite.pirate sword.type  eyepatch  sword.time  beard.length  \\\n",
       "0        0    Jack Sparrow    cutlass         1        0.58            16   \n",
       "1        0    Jack Sparrow    cutlass         0        1.11            21   \n",
       "2        1    Jack Sparrow    cutlass         1        1.44            19   \n",
       "3        2    Jack Sparrow   scimitar         1       36.11             2   \n",
       "4        4            Hook    cutlass         1        0.11             0   \n",
       "\n",
       "        fav.pixar  grogg  \n",
       "0  Monsters, Inc.     11  \n",
       "1          WALL-E      9  \n",
       "2      Inside Out      7  \n",
       "3      Inside Out      9  \n",
       "4      Inside Out     14  "
      ]
     },
     "execution_count": 3,
     "metadata": {},
     "output_type": "execute_result"
    }
   ],
   "source": [
    "data.head(5)"
   ]
  },
  {
   "cell_type": "code",
   "execution_count": 4,
   "id": "e0b1639c",
   "metadata": {},
   "outputs": [],
   "source": [
    "#challenge 2.1\n",
    "#data.shape[0] #sends a tuple of [rows, cols]"
   ]
  },
  {
   "cell_type": "code",
   "execution_count": 5,
   "id": "b7d23bf3",
   "metadata": {},
   "outputs": [],
   "source": [
    "#challenge 2.2 (and 2.1)\n",
    "#data.info()"
   ]
  },
  {
   "cell_type": "code",
   "execution_count": 6,
   "id": "2c72851f",
   "metadata": {},
   "outputs": [
    {
     "name": "stdout",
     "output_type": "stream",
     "text": [
      "[(33, 'age'), (136, 'sword.time'), (634, 'favorite.pirate'), (999, 'headband')]\n"
     ]
    }
   ],
   "source": [
    "#Challenge 2.3\n",
    "nullValues = [] #list of the location of nulls\n",
    "for i in range(data.shape[0]): #loops through rows\n",
    "    for j in data.columns: #loops thorugh cols\n",
    "        if pd.isnull(data.at[i, j]): #checks for Nulls\n",
    "            nullValues.append((i, j)) #adds nulls to list\n",
    "print(nullValues)"
   ]
  },
  {
   "cell_type": "code",
   "execution_count": 7,
   "id": "2d763597",
   "metadata": {},
   "outputs": [
    {
     "name": "stdout",
     "output_type": "stream",
     "text": [
      "27.0\n",
      "0.1\n",
      "Jack Sparrow\n",
      "yes\n"
     ]
    }
   ],
   "source": [
    "#challenge 3\n",
    "#I used the mode in each spot, as it's the most common and likely option, and shouldn't skew the data.\n",
    "modes = data.mode().iloc[0]\n",
    "data = data.fillna(modes)\n",
    "#data.info()\n",
    "print(data.at[33, 'age'])\n",
    "print(data.at[136, 'sword.time'])\n",
    "print(data.at[634, 'favorite.pirate'])\n",
    "print(data.at[999, 'headband'])"
   ]
  },
  {
   "cell_type": "code",
   "execution_count": 8,
   "id": "89f4ba27",
   "metadata": {},
   "outputs": [
    {
     "name": "stdout",
     "output_type": "stream",
     "text": [
      "3\n",
      "['male' 'female' 'other']\n"
     ]
    }
   ],
   "source": [
    "#Challenge 4.1\n",
    "print(data[\"sex\"].nunique())\n",
    "print(data[\"sex\"].unique())"
   ]
  },
  {
   "cell_type": "code",
   "execution_count": 9,
   "id": "563f562f",
   "metadata": {},
   "outputs": [
    {
     "data": {
      "text/plain": [
       "27.357"
      ]
     },
     "execution_count": 9,
     "metadata": {},
     "output_type": "execute_result"
    }
   ],
   "source": [
    "#Challenge 4.2.1\n",
    "data[\"age\"].mean() #Gets the average of all ages"
   ]
  },
  {
   "cell_type": "code",
   "execution_count": 10,
   "id": "edcbe242",
   "metadata": {},
   "outputs": [
    {
     "data": {
      "text/plain": [
       "29.916"
      ]
     },
     "execution_count": 10,
     "metadata": {},
     "output_type": "execute_result"
    }
   ],
   "source": [
    "#Challenge 4.2.2\n",
    "#Makes a temp dataframe that only contains rows with 'female', and then checks the average age\n",
    "round(data[data['sex'] == 'female'][\"age\"].mean(), 3)"
   ]
  },
  {
   "cell_type": "code",
   "execution_count": 11,
   "id": "76487af9",
   "metadata": {},
   "outputs": [
    {
     "data": {
      "text/plain": [
       "29.916"
      ]
     },
     "execution_count": 11,
     "metadata": {},
     "output_type": "execute_result"
    }
   ],
   "source": [
    "#Challenge 4.2.2 V2\n",
    "femaleData = data[data['sex'] == 'female']\n",
    "round(femaleData[\"age\"].mean(), 3)"
   ]
  },
  {
   "cell_type": "code",
   "execution_count": 12,
   "id": "2ddb8165",
   "metadata": {},
   "outputs": [
    {
     "name": "stdout",
     "output_type": "stream",
     "text": [
      "0.8%\n"
     ]
    }
   ],
   "source": [
    "#Challenge 4.3\n",
    "count = 0 #Count of how many peeps are in the restriction\n",
    "for row in range(data.shape[0]): #Loops through rows\n",
    "    inLBS = data.at[row, \"weight\"] * 2.205 #converts data to LBS\n",
    "    if inLBS < 100: #checks if they're in the restriction\n",
    "        count += 1 #adds 1 to count if the pirate is under 100 LBS\n",
    "avg = (count / data.shape[0]) * 100 #converts to average\n",
    "print(f\"{avg}%\") #prints averge and adds percent sign"
   ]
  },
  {
   "cell_type": "code",
   "execution_count": 13,
   "id": "af639401",
   "metadata": {},
   "outputs": [
    {
     "data": {
      "text/plain": [
       "0.8"
      ]
     },
     "execution_count": 13,
     "metadata": {},
     "output_type": "execute_result"
    }
   ],
   "source": [
    "#challenge 4.3 V2\n",
    "data[\"weight_lb\"] = data[\"weight\"] *2.205\n",
    "(data[\"weight_lb\"] < 100).mean() * 100"
   ]
  },
  {
   "cell_type": "code",
   "execution_count": 14,
   "id": "b9807c5b",
   "metadata": {},
   "outputs": [
    {
     "name": "stdout",
     "output_type": "stream",
     "text": [
      "Pirate ID 39 is the shortest, standing 129.83 cm off the ground.\n"
     ]
    }
   ],
   "source": [
    "#Challenge 5.1\n",
    "shorty = data[\"height\"].min()\n",
    "shortyID = data[\"height\"].idxmin() + 1\n",
    "print(f\"Pirate ID {shortyID} is the shortest, standing {shorty} cm off the ground.\")"
   ]
  },
  {
   "cell_type": "code",
   "execution_count": 15,
   "id": "fe961fb3",
   "metadata": {},
   "outputs": [
    {
     "name": "stdout",
     "output_type": "stream",
     "text": [
      "Pirate ID 2 is the heaviest, wheighing 105.6 kg.\n"
     ]
    }
   ],
   "source": [
    "#Challenge 5.2\n",
    "heavy = data[\"weight\"].max()\n",
    "heavyID = data[\"weight\"].idxmax() + 1\n",
    "print(f\"Pirate ID {heavyID} is the heaviest, wheighing {heavy} kg.\")"
   ]
  },
  {
   "cell_type": "code",
   "execution_count": 16,
   "id": "398aad88",
   "metadata": {},
   "outputs": [
    {
     "data": {
      "text/plain": [
       "'Inside Out'"
      ]
     },
     "execution_count": 16,
     "metadata": {},
     "output_type": "execute_result"
    }
   ],
   "source": [
    "#Challenge 5.3\n",
    "data[\"fav.pixar\"].mode()[0]"
   ]
  },
  {
   "cell_type": "code",
   "execution_count": 17,
   "id": "e3e259d6",
   "metadata": {},
   "outputs": [
    {
     "name": "stdout",
     "output_type": "stream",
     "text": [
      "The average is 0.658. The median is 1.0.\n"
     ]
    },
    {
     "data": {
      "text/plain": [
       "1"
      ]
     },
     "execution_count": 17,
     "metadata": {},
     "output_type": "execute_result"
    }
   ],
   "source": [
    "#Challenge 6.1\n",
    "eavg = data[\"eyepatch\"].mean()\n",
    "emed = data[\"eyepatch\"].median()\n",
    "print(f\"The average is {eavg}. The median is {emed}.\")\n",
    "data[\"eyepatch\"].max() #no one is completly blind with two eyepatches ):"
   ]
  },
  {
   "cell_type": "code",
   "execution_count": 18,
   "id": "61c86195",
   "metadata": {},
   "outputs": [
    {
     "name": "stdout",
     "output_type": "stream",
     "text": [
      "The average is 2.819. The median is 2.0.\n"
     ]
    }
   ],
   "source": [
    "#Challenge 6.2\n",
    "pavg = data[\"parrots\"].mean()\n",
    "pmed = data[\"parrots\"].median()\n",
    "print(f\"The average is {pavg}. The median is {pmed}.\")"
   ]
  },
  {
   "cell_type": "code",
   "execution_count": 19,
   "id": "cd64c74e",
   "metadata": {},
   "outputs": [
    {
     "data": {
      "text/html": [
       "<div>\n",
       "<style scoped>\n",
       "    .dataframe tbody tr th:only-of-type {\n",
       "        vertical-align: middle;\n",
       "    }\n",
       "\n",
       "    .dataframe tbody tr th {\n",
       "        vertical-align: top;\n",
       "    }\n",
       "\n",
       "    .dataframe thead th {\n",
       "        text-align: right;\n",
       "    }\n",
       "</style>\n",
       "<table border=\"1\" class=\"dataframe\">\n",
       "  <thead>\n",
       "    <tr style=\"text-align: right;\">\n",
       "      <th></th>\n",
       "      <th>id</th>\n",
       "      <th>sex</th>\n",
       "      <th>age</th>\n",
       "      <th>height</th>\n",
       "      <th>weight</th>\n",
       "      <th>headband</th>\n",
       "      <th>college</th>\n",
       "      <th>tattoos</th>\n",
       "      <th>tchests</th>\n",
       "      <th>parrots</th>\n",
       "      <th>favorite.pirate</th>\n",
       "      <th>sword.type</th>\n",
       "      <th>eyepatch</th>\n",
       "      <th>sword.time</th>\n",
       "      <th>beard.length</th>\n",
       "      <th>fav.pixar</th>\n",
       "      <th>grogg</th>\n",
       "      <th>weight_lb</th>\n",
       "    </tr>\n",
       "  </thead>\n",
       "  <tbody>\n",
       "    <tr>\n",
       "      <th>996</th>\n",
       "      <td>997</td>\n",
       "      <td>female</td>\n",
       "      <td>34.0</td>\n",
       "      <td>157.20</td>\n",
       "      <td>53.60</td>\n",
       "      <td>yes</td>\n",
       "      <td>JSSFP</td>\n",
       "      <td>13</td>\n",
       "      <td>48</td>\n",
       "      <td>2</td>\n",
       "      <td>Hook</td>\n",
       "      <td>cutlass</td>\n",
       "      <td>0</td>\n",
       "      <td>0.15</td>\n",
       "      <td>0</td>\n",
       "      <td>Finding Nemo</td>\n",
       "      <td>8</td>\n",
       "      <td>118.188</td>\n",
       "    </tr>\n",
       "    <tr>\n",
       "      <th>997</th>\n",
       "      <td>998</td>\n",
       "      <td>male</td>\n",
       "      <td>36.0</td>\n",
       "      <td>175.74</td>\n",
       "      <td>72.40</td>\n",
       "      <td>yes</td>\n",
       "      <td>JSSFP</td>\n",
       "      <td>9</td>\n",
       "      <td>95</td>\n",
       "      <td>14</td>\n",
       "      <td>Jack Sparrow</td>\n",
       "      <td>cutlass</td>\n",
       "      <td>1</td>\n",
       "      <td>1.28</td>\n",
       "      <td>18</td>\n",
       "      <td>The Incredibles</td>\n",
       "      <td>11</td>\n",
       "      <td>159.642</td>\n",
       "    </tr>\n",
       "    <tr>\n",
       "      <th>998</th>\n",
       "      <td>999</td>\n",
       "      <td>male</td>\n",
       "      <td>30.0</td>\n",
       "      <td>175.24</td>\n",
       "      <td>70.20</td>\n",
       "      <td>yes</td>\n",
       "      <td>JSSFP</td>\n",
       "      <td>9</td>\n",
       "      <td>6</td>\n",
       "      <td>0</td>\n",
       "      <td>Lewis Scot</td>\n",
       "      <td>cutlass</td>\n",
       "      <td>1</td>\n",
       "      <td>0.21</td>\n",
       "      <td>24</td>\n",
       "      <td>Inside Out</td>\n",
       "      <td>10</td>\n",
       "      <td>154.791</td>\n",
       "    </tr>\n",
       "    <tr>\n",
       "      <th>999</th>\n",
       "      <td>1000</td>\n",
       "      <td>male</td>\n",
       "      <td>30.0</td>\n",
       "      <td>189.45</td>\n",
       "      <td>84.00</td>\n",
       "      <td>yes</td>\n",
       "      <td>JSSFP</td>\n",
       "      <td>10</td>\n",
       "      <td>36</td>\n",
       "      <td>1</td>\n",
       "      <td>Jack Sparrow</td>\n",
       "      <td>cutlass</td>\n",
       "      <td>0</td>\n",
       "      <td>0.95</td>\n",
       "      <td>19</td>\n",
       "      <td>Up</td>\n",
       "      <td>14</td>\n",
       "      <td>185.220</td>\n",
       "    </tr>\n",
       "    <tr>\n",
       "      <th>1000</th>\n",
       "      <td>1001</td>\n",
       "      <td>female</td>\n",
       "      <td>43.0</td>\n",
       "      <td>187.30</td>\n",
       "      <td>97.12</td>\n",
       "      <td>no</td>\n",
       "      <td>CCCC</td>\n",
       "      <td>17</td>\n",
       "      <td>3</td>\n",
       "      <td>0</td>\n",
       "      <td>Blackbeard</td>\n",
       "      <td>cutlass</td>\n",
       "      <td>0</td>\n",
       "      <td>0.67</td>\n",
       "      <td>0</td>\n",
       "      <td>Finding Nemo</td>\n",
       "      <td>0</td>\n",
       "      <td>NaN</td>\n",
       "    </tr>\n",
       "  </tbody>\n",
       "</table>\n",
       "</div>"
      ],
      "text/plain": [
       "        id     sex   age  height  weight headband college  tattoos  tchests  \\\n",
       "996    997  female  34.0  157.20   53.60      yes   JSSFP       13       48   \n",
       "997    998    male  36.0  175.74   72.40      yes   JSSFP        9       95   \n",
       "998    999    male  30.0  175.24   70.20      yes   JSSFP        9        6   \n",
       "999   1000    male  30.0  189.45   84.00      yes   JSSFP       10       36   \n",
       "1000  1001  female  43.0  187.30   97.12       no    CCCC       17        3   \n",
       "\n",
       "      parrots favorite.pirate sword.type  eyepatch  sword.time  beard.length  \\\n",
       "996         2            Hook    cutlass         0        0.15             0   \n",
       "997        14    Jack Sparrow    cutlass         1        1.28            18   \n",
       "998         0      Lewis Scot    cutlass         1        0.21            24   \n",
       "999         1    Jack Sparrow    cutlass         0        0.95            19   \n",
       "1000        0      Blackbeard    cutlass         0        0.67             0   \n",
       "\n",
       "            fav.pixar  grogg  weight_lb  \n",
       "996      Finding Nemo      8    118.188  \n",
       "997   The Incredibles     11    159.642  \n",
       "998        Inside Out     10    154.791  \n",
       "999                Up     14    185.220  \n",
       "1000     Finding Nemo      0        NaN  "
      ]
     },
     "execution_count": 19,
     "metadata": {},
     "output_type": "execute_result"
    }
   ],
   "source": [
    "#Challenge 7\n",
    "newPirateRow = pd.read_csv(r\"C:\\Users\\aclark48\\Desktop\\DataScience1\\Data files\\PirateNewRow.csv\")\n",
    "rowData = pd.concat([data, newPirateRow], ignore_index=True)\n",
    "rowData.tail()"
   ]
  },
  {
   "cell_type": "code",
   "execution_count": 20,
   "id": "f13f2ff3",
   "metadata": {
    "scrolled": true
   },
   "outputs": [
    {
     "data": {
      "text/html": [
       "<div>\n",
       "<style scoped>\n",
       "    .dataframe tbody tr th:only-of-type {\n",
       "        vertical-align: middle;\n",
       "    }\n",
       "\n",
       "    .dataframe tbody tr th {\n",
       "        vertical-align: top;\n",
       "    }\n",
       "\n",
       "    .dataframe thead th {\n",
       "        text-align: right;\n",
       "    }\n",
       "</style>\n",
       "<table border=\"1\" class=\"dataframe\">\n",
       "  <thead>\n",
       "    <tr style=\"text-align: right;\">\n",
       "      <th></th>\n",
       "      <th>id</th>\n",
       "      <th>sex</th>\n",
       "      <th>age</th>\n",
       "      <th>height</th>\n",
       "      <th>weight</th>\n",
       "      <th>headband</th>\n",
       "      <th>college</th>\n",
       "      <th>tattoos</th>\n",
       "      <th>tchests</th>\n",
       "      <th>parrots</th>\n",
       "      <th>favorite.pirate</th>\n",
       "      <th>sword.type</th>\n",
       "      <th>eyepatch</th>\n",
       "      <th>sword.time</th>\n",
       "      <th>beard.length</th>\n",
       "      <th>fav.pixar</th>\n",
       "      <th>grogg</th>\n",
       "      <th>weight_lb</th>\n",
       "      <th>favorite.sea</th>\n",
       "    </tr>\n",
       "  </thead>\n",
       "  <tbody>\n",
       "    <tr>\n",
       "      <th>994</th>\n",
       "      <td>995</td>\n",
       "      <td>male</td>\n",
       "      <td>34.0</td>\n",
       "      <td>172.45</td>\n",
       "      <td>75.0</td>\n",
       "      <td>yes</td>\n",
       "      <td>JSSFP</td>\n",
       "      <td>9</td>\n",
       "      <td>18</td>\n",
       "      <td>16</td>\n",
       "      <td>Jack Sparrow</td>\n",
       "      <td>cutlass</td>\n",
       "      <td>1</td>\n",
       "      <td>0.16</td>\n",
       "      <td>18</td>\n",
       "      <td>Toy Story 3</td>\n",
       "      <td>10</td>\n",
       "      <td>165.375</td>\n",
       "      <td>Barents Sea</td>\n",
       "    </tr>\n",
       "    <tr>\n",
       "      <th>995</th>\n",
       "      <td>996</td>\n",
       "      <td>male</td>\n",
       "      <td>26.0</td>\n",
       "      <td>178.83</td>\n",
       "      <td>70.8</td>\n",
       "      <td>yes</td>\n",
       "      <td>CCCC</td>\n",
       "      <td>14</td>\n",
       "      <td>11</td>\n",
       "      <td>2</td>\n",
       "      <td>Jack Sparrow</td>\n",
       "      <td>cutlass</td>\n",
       "      <td>0</td>\n",
       "      <td>0.46</td>\n",
       "      <td>20</td>\n",
       "      <td>Up</td>\n",
       "      <td>13</td>\n",
       "      <td>156.114</td>\n",
       "      <td>Baltic Sea</td>\n",
       "    </tr>\n",
       "    <tr>\n",
       "      <th>996</th>\n",
       "      <td>997</td>\n",
       "      <td>female</td>\n",
       "      <td>34.0</td>\n",
       "      <td>157.20</td>\n",
       "      <td>53.6</td>\n",
       "      <td>yes</td>\n",
       "      <td>JSSFP</td>\n",
       "      <td>13</td>\n",
       "      <td>48</td>\n",
       "      <td>2</td>\n",
       "      <td>Hook</td>\n",
       "      <td>cutlass</td>\n",
       "      <td>0</td>\n",
       "      <td>0.15</td>\n",
       "      <td>0</td>\n",
       "      <td>Finding Nemo</td>\n",
       "      <td>8</td>\n",
       "      <td>118.188</td>\n",
       "      <td>South China Sea</td>\n",
       "    </tr>\n",
       "    <tr>\n",
       "      <th>997</th>\n",
       "      <td>998</td>\n",
       "      <td>male</td>\n",
       "      <td>36.0</td>\n",
       "      <td>175.74</td>\n",
       "      <td>72.4</td>\n",
       "      <td>yes</td>\n",
       "      <td>JSSFP</td>\n",
       "      <td>9</td>\n",
       "      <td>95</td>\n",
       "      <td>14</td>\n",
       "      <td>Jack Sparrow</td>\n",
       "      <td>cutlass</td>\n",
       "      <td>1</td>\n",
       "      <td>1.28</td>\n",
       "      <td>18</td>\n",
       "      <td>The Incredibles</td>\n",
       "      <td>11</td>\n",
       "      <td>159.642</td>\n",
       "      <td>Celebes Sea</td>\n",
       "    </tr>\n",
       "    <tr>\n",
       "      <th>998</th>\n",
       "      <td>999</td>\n",
       "      <td>male</td>\n",
       "      <td>30.0</td>\n",
       "      <td>175.24</td>\n",
       "      <td>70.2</td>\n",
       "      <td>yes</td>\n",
       "      <td>JSSFP</td>\n",
       "      <td>9</td>\n",
       "      <td>6</td>\n",
       "      <td>0</td>\n",
       "      <td>Lewis Scot</td>\n",
       "      <td>cutlass</td>\n",
       "      <td>1</td>\n",
       "      <td>0.21</td>\n",
       "      <td>24</td>\n",
       "      <td>Inside Out</td>\n",
       "      <td>10</td>\n",
       "      <td>154.791</td>\n",
       "      <td>Labrador Sea</td>\n",
       "    </tr>\n",
       "  </tbody>\n",
       "</table>\n",
       "</div>"
      ],
      "text/plain": [
       "      id     sex   age  height  weight headband college  tattoos  tchests  \\\n",
       "994  995    male  34.0  172.45    75.0      yes   JSSFP        9       18   \n",
       "995  996    male  26.0  178.83    70.8      yes    CCCC       14       11   \n",
       "996  997  female  34.0  157.20    53.6      yes   JSSFP       13       48   \n",
       "997  998    male  36.0  175.74    72.4      yes   JSSFP        9       95   \n",
       "998  999    male  30.0  175.24    70.2      yes   JSSFP        9        6   \n",
       "\n",
       "     parrots favorite.pirate sword.type  eyepatch  sword.time  beard.length  \\\n",
       "994       16    Jack Sparrow    cutlass         1        0.16            18   \n",
       "995        2    Jack Sparrow    cutlass         0        0.46            20   \n",
       "996        2            Hook    cutlass         0        0.15             0   \n",
       "997       14    Jack Sparrow    cutlass         1        1.28            18   \n",
       "998        0      Lewis Scot    cutlass         1        0.21            24   \n",
       "\n",
       "           fav.pixar  grogg  weight_lb     favorite.sea  \n",
       "994      Toy Story 3     10    165.375      Barents Sea  \n",
       "995               Up     13    156.114       Baltic Sea  \n",
       "996     Finding Nemo      8    118.188  South China Sea  \n",
       "997  The Incredibles     11    159.642      Celebes Sea  \n",
       "998       Inside Out     10    154.791     Labrador Sea  "
      ]
     },
     "execution_count": 20,
     "metadata": {},
     "output_type": "execute_result"
    }
   ],
   "source": [
    "#Challenge 8\n",
    "newPirateCol = pd.read_csv(r\"C:\\Users\\aclark48\\Desktop\\DataScience1\\Data files\\PirateNewColumn.csv\")\n",
    "#newPirateCol = newPirateCol.sort_values(by='id', ascending=True).reset_index(drop=True) - unneeded but good example of sort_values\n",
    "colData = data.merge(newPirateCol, on = \"id\")\n",
    "colData.tail(5)"
   ]
  },
  {
   "cell_type": "code",
   "execution_count": 21,
   "id": "b540bad7",
   "metadata": {},
   "outputs": [
    {
     "data": {
      "text/html": [
       "<div>\n",
       "<style scoped>\n",
       "    .dataframe tbody tr th:only-of-type {\n",
       "        vertical-align: middle;\n",
       "    }\n",
       "\n",
       "    .dataframe tbody tr th {\n",
       "        vertical-align: top;\n",
       "    }\n",
       "\n",
       "    .dataframe thead th {\n",
       "        text-align: right;\n",
       "    }\n",
       "</style>\n",
       "<table border=\"1\" class=\"dataframe\">\n",
       "  <thead>\n",
       "    <tr style=\"text-align: right;\">\n",
       "      <th></th>\n",
       "      <th>id</th>\n",
       "      <th>sex</th>\n",
       "      <th>age</th>\n",
       "      <th>height</th>\n",
       "      <th>weight</th>\n",
       "      <th>headband</th>\n",
       "      <th>college</th>\n",
       "      <th>tattoos</th>\n",
       "      <th>tchests</th>\n",
       "      <th>parrots</th>\n",
       "      <th>favorite.pirate</th>\n",
       "      <th>sword.type</th>\n",
       "      <th>eyepatch</th>\n",
       "      <th>sword.time</th>\n",
       "      <th>beard.length</th>\n",
       "      <th>fav.pixar</th>\n",
       "      <th>grogg</th>\n",
       "      <th>weight_lb</th>\n",
       "      <th>favorite.sea</th>\n",
       "    </tr>\n",
       "  </thead>\n",
       "  <tbody>\n",
       "    <tr>\n",
       "      <th>994</th>\n",
       "      <td>995</td>\n",
       "      <td>male</td>\n",
       "      <td>34.0</td>\n",
       "      <td>172.45</td>\n",
       "      <td>75.0</td>\n",
       "      <td>yes</td>\n",
       "      <td>JSSFP</td>\n",
       "      <td>9</td>\n",
       "      <td>18</td>\n",
       "      <td>16</td>\n",
       "      <td>Jack Sparrow</td>\n",
       "      <td>cutlass</td>\n",
       "      <td>1</td>\n",
       "      <td>0.16</td>\n",
       "      <td>18</td>\n",
       "      <td>Toy Story 3</td>\n",
       "      <td>10</td>\n",
       "      <td>165.375</td>\n",
       "      <td>Barents Sea</td>\n",
       "    </tr>\n",
       "    <tr>\n",
       "      <th>995</th>\n",
       "      <td>996</td>\n",
       "      <td>male</td>\n",
       "      <td>26.0</td>\n",
       "      <td>178.83</td>\n",
       "      <td>70.8</td>\n",
       "      <td>yes</td>\n",
       "      <td>CCCC</td>\n",
       "      <td>14</td>\n",
       "      <td>11</td>\n",
       "      <td>2</td>\n",
       "      <td>Jack Sparrow</td>\n",
       "      <td>cutlass</td>\n",
       "      <td>0</td>\n",
       "      <td>0.46</td>\n",
       "      <td>20</td>\n",
       "      <td>Up</td>\n",
       "      <td>13</td>\n",
       "      <td>156.114</td>\n",
       "      <td>Baltic Sea</td>\n",
       "    </tr>\n",
       "    <tr>\n",
       "      <th>996</th>\n",
       "      <td>997</td>\n",
       "      <td>female</td>\n",
       "      <td>34.0</td>\n",
       "      <td>157.20</td>\n",
       "      <td>53.6</td>\n",
       "      <td>yes</td>\n",
       "      <td>JSSFP</td>\n",
       "      <td>13</td>\n",
       "      <td>48</td>\n",
       "      <td>2</td>\n",
       "      <td>Hook</td>\n",
       "      <td>cutlass</td>\n",
       "      <td>0</td>\n",
       "      <td>0.15</td>\n",
       "      <td>0</td>\n",
       "      <td>Finding Nemo</td>\n",
       "      <td>8</td>\n",
       "      <td>118.188</td>\n",
       "      <td>South China Sea</td>\n",
       "    </tr>\n",
       "    <tr>\n",
       "      <th>997</th>\n",
       "      <td>998</td>\n",
       "      <td>male</td>\n",
       "      <td>36.0</td>\n",
       "      <td>175.74</td>\n",
       "      <td>72.4</td>\n",
       "      <td>yes</td>\n",
       "      <td>JSSFP</td>\n",
       "      <td>9</td>\n",
       "      <td>95</td>\n",
       "      <td>14</td>\n",
       "      <td>Jack Sparrow</td>\n",
       "      <td>cutlass</td>\n",
       "      <td>1</td>\n",
       "      <td>1.28</td>\n",
       "      <td>18</td>\n",
       "      <td>The Incredibles</td>\n",
       "      <td>11</td>\n",
       "      <td>159.642</td>\n",
       "      <td>Celebes Sea</td>\n",
       "    </tr>\n",
       "    <tr>\n",
       "      <th>998</th>\n",
       "      <td>999</td>\n",
       "      <td>male</td>\n",
       "      <td>30.0</td>\n",
       "      <td>175.24</td>\n",
       "      <td>70.2</td>\n",
       "      <td>yes</td>\n",
       "      <td>JSSFP</td>\n",
       "      <td>9</td>\n",
       "      <td>6</td>\n",
       "      <td>0</td>\n",
       "      <td>Lewis Scot</td>\n",
       "      <td>cutlass</td>\n",
       "      <td>1</td>\n",
       "      <td>0.21</td>\n",
       "      <td>24</td>\n",
       "      <td>Inside Out</td>\n",
       "      <td>10</td>\n",
       "      <td>154.791</td>\n",
       "      <td>Labrador Sea</td>\n",
       "    </tr>\n",
       "  </tbody>\n",
       "</table>\n",
       "</div>"
      ],
      "text/plain": [
       "      id     sex   age  height  weight headband college  tattoos  tchests  \\\n",
       "994  995    male  34.0  172.45    75.0      yes   JSSFP        9       18   \n",
       "995  996    male  26.0  178.83    70.8      yes    CCCC       14       11   \n",
       "996  997  female  34.0  157.20    53.6      yes   JSSFP       13       48   \n",
       "997  998    male  36.0  175.74    72.4      yes   JSSFP        9       95   \n",
       "998  999    male  30.0  175.24    70.2      yes   JSSFP        9        6   \n",
       "\n",
       "     parrots favorite.pirate sword.type  eyepatch  sword.time  beard.length  \\\n",
       "994       16    Jack Sparrow    cutlass         1        0.16            18   \n",
       "995        2    Jack Sparrow    cutlass         0        0.46            20   \n",
       "996        2            Hook    cutlass         0        0.15             0   \n",
       "997       14    Jack Sparrow    cutlass         1        1.28            18   \n",
       "998        0      Lewis Scot    cutlass         1        0.21            24   \n",
       "\n",
       "           fav.pixar  grogg  weight_lb     favorite.sea  \n",
       "994      Toy Story 3     10    165.375      Barents Sea  \n",
       "995               Up     13    156.114       Baltic Sea  \n",
       "996     Finding Nemo      8    118.188  South China Sea  \n",
       "997  The Incredibles     11    159.642      Celebes Sea  \n",
       "998       Inside Out     10    154.791     Labrador Sea  "
      ]
     },
     "execution_count": 21,
     "metadata": {},
     "output_type": "execute_result"
    }
   ],
   "source": [
    "#Challenge 8\n",
    "newPirateCol = pd.read_csv(r\"C:\\Users\\aclark48\\Desktop\\DataScience1\\Data files\\PirateNewColumn.csv\")\n",
    "#newPirateCol = newPirateCol.sort_values(by='id', ascending=True).reset_index(drop=True) - unneeded but good example of sort_values\n",
    "colData = pd.merge(data, newPirateCol, on = \"id\")\n",
    "colData.tail(5)"
   ]
  }
 ],
 "metadata": {
  "kernelspec": {
   "display_name": "Python 3 (ipykernel)",
   "language": "python",
   "name": "python3"
  },
  "language_info": {
   "codemirror_mode": {
    "name": "ipython",
    "version": 3
   },
   "file_extension": ".py",
   "mimetype": "text/x-python",
   "name": "python",
   "nbconvert_exporter": "python",
   "pygments_lexer": "ipython3",
   "version": "3.9.13"
  }
 },
 "nbformat": 4,
 "nbformat_minor": 5
}
