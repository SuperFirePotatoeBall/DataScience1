{
 "cells": [
  {
   "cell_type": "code",
   "execution_count": 1,
   "id": "c3ff1526",
   "metadata": {},
   "outputs": [],
   "source": [
    "import pandas as pd"
   ]
  },
  {
   "cell_type": "code",
   "execution_count": 2,
   "id": "b8f0b695",
   "metadata": {},
   "outputs": [],
   "source": [
    "data = pd.read_csv(r\"C:\\Users\\aclark48\\Desktop\\DataScience1\\Data files\\pirates.csv\")"
   ]
  },
  {
   "cell_type": "code",
   "execution_count": 17,
   "id": "f30b2707",
   "metadata": {},
   "outputs": [
    {
     "data": {
      "text/html": [
       "<div>\n",
       "<style scoped>\n",
       "    .dataframe tbody tr th:only-of-type {\n",
       "        vertical-align: middle;\n",
       "    }\n",
       "\n",
       "    .dataframe tbody tr th {\n",
       "        vertical-align: top;\n",
       "    }\n",
       "\n",
       "    .dataframe thead th {\n",
       "        text-align: right;\n",
       "    }\n",
       "</style>\n",
       "<table border=\"1\" class=\"dataframe\">\n",
       "  <thead>\n",
       "    <tr style=\"text-align: right;\">\n",
       "      <th></th>\n",
       "      <th>id</th>\n",
       "      <th>sex</th>\n",
       "      <th>age</th>\n",
       "      <th>height</th>\n",
       "      <th>weight</th>\n",
       "      <th>headband</th>\n",
       "      <th>college</th>\n",
       "      <th>tattoos</th>\n",
       "      <th>tchests</th>\n",
       "      <th>parrots</th>\n",
       "      <th>favorite.pirate</th>\n",
       "      <th>sword.type</th>\n",
       "      <th>eyepatch</th>\n",
       "      <th>sword.time</th>\n",
       "      <th>beard.length</th>\n",
       "      <th>fav.pixar</th>\n",
       "      <th>grogg</th>\n",
       "      <th>weight_lb</th>\n",
       "    </tr>\n",
       "  </thead>\n",
       "  <tbody>\n",
       "    <tr>\n",
       "      <th>0</th>\n",
       "      <td>1</td>\n",
       "      <td>male</td>\n",
       "      <td>28.0</td>\n",
       "      <td>173.11</td>\n",
       "      <td>70.5</td>\n",
       "      <td>yes</td>\n",
       "      <td>JSSFP</td>\n",
       "      <td>9</td>\n",
       "      <td>0</td>\n",
       "      <td>0</td>\n",
       "      <td>Jack Sparrow</td>\n",
       "      <td>cutlass</td>\n",
       "      <td>1</td>\n",
       "      <td>0.58</td>\n",
       "      <td>16</td>\n",
       "      <td>Monsters, Inc.</td>\n",
       "      <td>11</td>\n",
       "      <td>155.4525</td>\n",
       "    </tr>\n",
       "    <tr>\n",
       "      <th>1</th>\n",
       "      <td>2</td>\n",
       "      <td>male</td>\n",
       "      <td>31.0</td>\n",
       "      <td>209.25</td>\n",
       "      <td>105.6</td>\n",
       "      <td>yes</td>\n",
       "      <td>JSSFP</td>\n",
       "      <td>9</td>\n",
       "      <td>11</td>\n",
       "      <td>0</td>\n",
       "      <td>Jack Sparrow</td>\n",
       "      <td>cutlass</td>\n",
       "      <td>0</td>\n",
       "      <td>1.11</td>\n",
       "      <td>21</td>\n",
       "      <td>WALL-E</td>\n",
       "      <td>9</td>\n",
       "      <td>232.8480</td>\n",
       "    </tr>\n",
       "    <tr>\n",
       "      <th>2</th>\n",
       "      <td>3</td>\n",
       "      <td>male</td>\n",
       "      <td>26.0</td>\n",
       "      <td>169.95</td>\n",
       "      <td>77.1</td>\n",
       "      <td>yes</td>\n",
       "      <td>CCCC</td>\n",
       "      <td>10</td>\n",
       "      <td>10</td>\n",
       "      <td>1</td>\n",
       "      <td>Jack Sparrow</td>\n",
       "      <td>cutlass</td>\n",
       "      <td>1</td>\n",
       "      <td>1.44</td>\n",
       "      <td>19</td>\n",
       "      <td>Inside Out</td>\n",
       "      <td>7</td>\n",
       "      <td>170.0055</td>\n",
       "    </tr>\n",
       "    <tr>\n",
       "      <th>3</th>\n",
       "      <td>4</td>\n",
       "      <td>female</td>\n",
       "      <td>31.0</td>\n",
       "      <td>144.29</td>\n",
       "      <td>58.5</td>\n",
       "      <td>no</td>\n",
       "      <td>JSSFP</td>\n",
       "      <td>2</td>\n",
       "      <td>0</td>\n",
       "      <td>2</td>\n",
       "      <td>Jack Sparrow</td>\n",
       "      <td>scimitar</td>\n",
       "      <td>1</td>\n",
       "      <td>36.11</td>\n",
       "      <td>2</td>\n",
       "      <td>Inside Out</td>\n",
       "      <td>9</td>\n",
       "      <td>128.9925</td>\n",
       "    </tr>\n",
       "    <tr>\n",
       "      <th>4</th>\n",
       "      <td>5</td>\n",
       "      <td>female</td>\n",
       "      <td>41.0</td>\n",
       "      <td>157.85</td>\n",
       "      <td>58.4</td>\n",
       "      <td>yes</td>\n",
       "      <td>JSSFP</td>\n",
       "      <td>9</td>\n",
       "      <td>6</td>\n",
       "      <td>4</td>\n",
       "      <td>Hook</td>\n",
       "      <td>cutlass</td>\n",
       "      <td>1</td>\n",
       "      <td>0.11</td>\n",
       "      <td>0</td>\n",
       "      <td>Inside Out</td>\n",
       "      <td>14</td>\n",
       "      <td>128.7720</td>\n",
       "    </tr>\n",
       "  </tbody>\n",
       "</table>\n",
       "</div>"
      ],
      "text/plain": [
       "   id     sex   age  height  weight headband college  tattoos  tchests  \\\n",
       "0   1    male  28.0  173.11    70.5      yes   JSSFP        9        0   \n",
       "1   2    male  31.0  209.25   105.6      yes   JSSFP        9       11   \n",
       "2   3    male  26.0  169.95    77.1      yes    CCCC       10       10   \n",
       "3   4  female  31.0  144.29    58.5       no   JSSFP        2        0   \n",
       "4   5  female  41.0  157.85    58.4      yes   JSSFP        9        6   \n",
       "\n",
       "  parrots favorite.pirate sword.type  eyepatch  sword.time  beard.length  \\\n",
       "0       0    Jack Sparrow    cutlass         1        0.58            16   \n",
       "1       0    Jack Sparrow    cutlass         0        1.11            21   \n",
       "2       1    Jack Sparrow    cutlass         1        1.44            19   \n",
       "3       2    Jack Sparrow   scimitar         1       36.11             2   \n",
       "4       4            Hook    cutlass         1        0.11             0   \n",
       "\n",
       "        fav.pixar  grogg  weight_lb  \n",
       "0  Monsters, Inc.     11   155.4525  \n",
       "1          WALL-E      9   232.8480  \n",
       "2      Inside Out      7   170.0055  \n",
       "3      Inside Out      9   128.9925  \n",
       "4      Inside Out     14   128.7720  "
      ]
     },
     "execution_count": 17,
     "metadata": {},
     "output_type": "execute_result"
    }
   ],
   "source": [
    "data.head(5)"
   ]
  },
  {
   "cell_type": "code",
   "execution_count": 4,
   "id": "e0b1639c",
   "metadata": {},
   "outputs": [],
   "source": [
    "#challenge 2.1\n",
    "#data.shape[0] #sends a tuple of [rows, cols]"
   ]
  },
  {
   "cell_type": "code",
   "execution_count": 5,
   "id": "b7d23bf3",
   "metadata": {},
   "outputs": [],
   "source": [
    "#challenge 2.2 (and 2.1)\n",
    "#data.info()"
   ]
  },
  {
   "cell_type": "code",
   "execution_count": 6,
   "id": "2c72851f",
   "metadata": {},
   "outputs": [
    {
     "name": "stdout",
     "output_type": "stream",
     "text": [
      "[(33, 'age'), (136, 'sword.time'), (634, 'favorite.pirate'), (999, 'headband')]\n"
     ]
    }
   ],
   "source": [
    "#Challenge 2.3\n",
    "nullValues = [] #list of the location of nulls\n",
    "for i in range(data.shape[0]): #loops through rows\n",
    "    for j in data.columns: #loops thorugh cols\n",
    "        if pd.isnull(data.at[i, j]): #checks for Nulls\n",
    "            nullValues.append((i, j)) #adds nulls to list\n",
    "print(nullValues)"
   ]
  },
  {
   "cell_type": "code",
   "execution_count": 7,
   "id": "2d763597",
   "metadata": {},
   "outputs": [
    {
     "name": "stdout",
     "output_type": "stream",
     "text": [
      "27.0\n",
      "0.1\n",
      "Jack Sparrow\n",
      "yes\n"
     ]
    }
   ],
   "source": [
    "#challenge 3\n",
    "#I used the mode in each spot, as it's the most common and likely option, and shouldn't skew the data.\n",
    "modes = data.mode().iloc[0]\n",
    "data = data.fillna(modes)\n",
    "#data.info()\n",
    "print(data.at[33, 'age'])\n",
    "print(data.at[136, 'sword.time'])\n",
    "print(data.at[634, 'favorite.pirate'])\n",
    "print(data.at[999, 'headband'])"
   ]
  },
  {
   "cell_type": "code",
   "execution_count": 8,
   "id": "89f4ba27",
   "metadata": {},
   "outputs": [
    {
     "name": "stdout",
     "output_type": "stream",
     "text": [
      "3\n",
      "['male' 'female' 'other']\n"
     ]
    }
   ],
   "source": [
    "#Challenge 4.1\n",
    "print(data[\"sex\"].nunique())\n",
    "print(data[\"sex\"].unique())"
   ]
  },
  {
   "cell_type": "code",
   "execution_count": 9,
   "id": "563f562f",
   "metadata": {},
   "outputs": [
    {
     "data": {
      "text/plain": [
       "27.357"
      ]
     },
     "execution_count": 9,
     "metadata": {},
     "output_type": "execute_result"
    }
   ],
   "source": [
    "#Challenge 4.2.1\n",
    "data[\"age\"].mean() #Gets the average of all ages"
   ]
  },
  {
   "cell_type": "code",
   "execution_count": 10,
   "id": "edcbe242",
   "metadata": {},
   "outputs": [
    {
     "data": {
      "text/plain": [
       "29.916"
      ]
     },
     "execution_count": 10,
     "metadata": {},
     "output_type": "execute_result"
    }
   ],
   "source": [
    "#Challenge 4.2.2\n",
    "#Makes a temp dataframe that only contains rows with 'female', and then checks the average age\n",
    "round(data[data['sex'] == 'female'][\"age\"].mean(), 3)"
   ]
  },
  {
   "cell_type": "code",
   "execution_count": 11,
   "id": "76487af9",
   "metadata": {},
   "outputs": [
    {
     "data": {
      "text/plain": [
       "29.916"
      ]
     },
     "execution_count": 11,
     "metadata": {},
     "output_type": "execute_result"
    }
   ],
   "source": [
    "#Challenge 4.2.2 V2\n",
    "femaleData = data[data['sex'] == 'female']\n",
    "round(femaleData[\"age\"].mean(), 3)"
   ]
  },
  {
   "cell_type": "code",
   "execution_count": 12,
   "id": "2ddb8165",
   "metadata": {},
   "outputs": [
    {
     "name": "stdout",
     "output_type": "stream",
     "text": [
      "0.8%\n"
     ]
    }
   ],
   "source": [
    "#Challenge 4.3\n",
    "count = 0 #Count of how many peeps are in the restriction\n",
    "for row in range(data.shape[0]): #Loops through rows\n",
    "    inLBS = data.at[row, \"weight\"] * 2.205 #converts data to LBS\n",
    "    if inLBS < 100: #checks if they're in the restriction\n",
    "        count += 1 #adds 1 to count if the pirate is under 100 LBS\n",
    "avg = (count / data.shape[0]) * 100 #converts to average\n",
    "print(f\"{avg}%\") #prints averge and adds percent sign"
   ]
  },
  {
   "cell_type": "code",
   "execution_count": 13,
   "id": "af639401",
   "metadata": {},
   "outputs": [
    {
     "data": {
      "text/plain": [
       "0.8"
      ]
     },
     "execution_count": 13,
     "metadata": {},
     "output_type": "execute_result"
    }
   ],
   "source": [
    "#challenge 4.3 V2\n",
    "data[\"weight_lb\"] = data[\"weight\"] *2.205\n",
    "(data[\"weight_lb\"] < 100).mean() * 100"
   ]
  },
  {
   "cell_type": "code",
   "execution_count": 14,
   "id": "b9807c5b",
   "metadata": {},
   "outputs": [
    {
     "name": "stdout",
     "output_type": "stream",
     "text": [
      "Pirate 39 is the shortest, standing 129.83 cm off the ground.\n"
     ]
    }
   ],
   "source": [
    "#Challenge 5.1\n",
    "shorty = data[\"height\"].min()\n",
    "shortyID = data[\"height\"].idxmin() + 1\n",
    "print(f\"Pirate {shortyID} is the shortest, standing {shorty} cm off the ground.\")"
   ]
  },
  {
   "cell_type": "code",
   "execution_count": 15,
   "id": "fe961fb3",
   "metadata": {},
   "outputs": [
    {
     "name": "stdout",
     "output_type": "stream",
     "text": [
      "Pirate 2 is the heaviest, wheighing 105.6 kg.\n"
     ]
    }
   ],
   "source": [
    "#Challenge 5.2\n",
    "heavy = data[\"weight\"].max()\n",
    "heavyID = data[\"weight\"].idxmax() + 1\n",
    "print(f\"Pirate {heavyID} is the heaviest, wheighing {heavy} kg.\")"
   ]
  },
  {
   "cell_type": "code",
   "execution_count": 16,
   "id": "398aad88",
   "metadata": {},
   "outputs": [
    {
     "data": {
      "text/plain": [
       "'Inside Out'"
      ]
     },
     "execution_count": 16,
     "metadata": {},
     "output_type": "execute_result"
    }
   ],
   "source": [
    "#Challenge 5.3\n",
    "data[\"fav.pixar\"].mode()[0]"
   ]
  },
  {
   "cell_type": "code",
   "execution_count": 22,
   "id": "e3e259d6",
   "metadata": {},
   "outputs": [
    {
     "name": "stdout",
     "output_type": "stream",
     "text": [
      "The average is 0.658. The median is 1.0.\n"
     ]
    },
    {
     "data": {
      "text/plain": [
       "1"
      ]
     },
     "execution_count": 22,
     "metadata": {},
     "output_type": "execute_result"
    }
   ],
   "source": [
    "#Cahllenge 6.1\n",
    "eavg = data[\"eyepatch\"].mean()\n",
    "emed = data[\"eyepatch\"].median()\n",
    "print(f\"The average is {eavg}. The median is {emed}.\")\n",
    "data[\"eyepatch\"].max() #no one is completly blind with two eyepatches"
   ]
  },
  {
   "cell_type": "code",
   "execution_count": 32,
   "id": "61c86195",
   "metadata": {},
   "outputs": [
    {
     "ename": "ValueError",
     "evalue": "Unable to parse string \"\"1\"\" at position 36",
     "output_type": "error",
     "traceback": [
      "\u001b[1;31m---------------------------------------------------------------------------\u001b[0m",
      "\u001b[1;31mValueError\u001b[0m                                Traceback (most recent call last)",
      "\u001b[1;32mC:\\ProgramData\\Anaconda3\\lib\\site-packages\\pandas\\_libs\\lib.pyx\u001b[0m in \u001b[0;36mpandas._libs.lib.maybe_convert_numeric\u001b[1;34m()\u001b[0m\n",
      "\u001b[1;31mValueError\u001b[0m: Unable to parse string \"\"1\"\"",
      "\nDuring handling of the above exception, another exception occurred:\n",
      "\u001b[1;31mValueError\u001b[0m                                Traceback (most recent call last)",
      "\u001b[1;32m~\\AppData\\Local\\Temp\\ipykernel_14712\\141666624.py\u001b[0m in \u001b[0;36m<module>\u001b[1;34m\u001b[0m\n\u001b[0;32m      1\u001b[0m \u001b[1;31m#Challenge 6.1\u001b[0m\u001b[1;33m\u001b[0m\u001b[1;33m\u001b[0m\u001b[0m\n\u001b[1;32m----> 2\u001b[1;33m \u001b[0mdata\u001b[0m \u001b[1;33m=\u001b[0m \u001b[0mpd\u001b[0m\u001b[1;33m.\u001b[0m\u001b[0mto_numeric\u001b[0m\u001b[1;33m(\u001b[0m\u001b[0mdata\u001b[0m\u001b[1;33m[\u001b[0m\u001b[1;34m\"parrots\"\u001b[0m\u001b[1;33m]\u001b[0m\u001b[1;33m)\u001b[0m\u001b[1;33m\u001b[0m\u001b[1;33m\u001b[0m\u001b[0m\n\u001b[0m\u001b[0;32m      3\u001b[0m \u001b[0mpavg\u001b[0m \u001b[1;33m=\u001b[0m \u001b[0mpdata\u001b[0m\u001b[1;33m[\u001b[0m\u001b[1;34m\"parrots\"\u001b[0m\u001b[1;33m]\u001b[0m\u001b[1;33m.\u001b[0m\u001b[0mmean\u001b[0m\u001b[1;33m(\u001b[0m\u001b[1;33m)\u001b[0m\u001b[1;33m\u001b[0m\u001b[1;33m\u001b[0m\u001b[0m\n\u001b[0;32m      4\u001b[0m \u001b[0mpmed\u001b[0m \u001b[1;33m=\u001b[0m \u001b[0mpdata\u001b[0m\u001b[1;33m[\u001b[0m\u001b[1;34m\"parrots\"\u001b[0m\u001b[1;33m]\u001b[0m\u001b[1;33m.\u001b[0m\u001b[0mmedian\u001b[0m\u001b[1;33m(\u001b[0m\u001b[1;33m)\u001b[0m\u001b[1;33m\u001b[0m\u001b[1;33m\u001b[0m\u001b[0m\n\u001b[0;32m      5\u001b[0m \u001b[0mprint\u001b[0m\u001b[1;33m(\u001b[0m\u001b[1;34mf\"The average is {pavg}. The median is {pmed}.\"\u001b[0m\u001b[1;33m)\u001b[0m\u001b[1;33m\u001b[0m\u001b[1;33m\u001b[0m\u001b[0m\n",
      "\u001b[1;32mC:\\ProgramData\\Anaconda3\\lib\\site-packages\\pandas\\core\\tools\\numeric.py\u001b[0m in \u001b[0;36mto_numeric\u001b[1;34m(arg, errors, downcast)\u001b[0m\n\u001b[0;32m    182\u001b[0m         \u001b[0mcoerce_numeric\u001b[0m \u001b[1;33m=\u001b[0m \u001b[0merrors\u001b[0m \u001b[1;32mnot\u001b[0m \u001b[1;32min\u001b[0m \u001b[1;33m(\u001b[0m\u001b[1;34m\"ignore\"\u001b[0m\u001b[1;33m,\u001b[0m \u001b[1;34m\"raise\"\u001b[0m\u001b[1;33m)\u001b[0m\u001b[1;33m\u001b[0m\u001b[1;33m\u001b[0m\u001b[0m\n\u001b[0;32m    183\u001b[0m         \u001b[1;32mtry\u001b[0m\u001b[1;33m:\u001b[0m\u001b[1;33m\u001b[0m\u001b[1;33m\u001b[0m\u001b[0m\n\u001b[1;32m--> 184\u001b[1;33m             values, _ = lib.maybe_convert_numeric(\n\u001b[0m\u001b[0;32m    185\u001b[0m                 \u001b[0mvalues\u001b[0m\u001b[1;33m,\u001b[0m \u001b[0mset\u001b[0m\u001b[1;33m(\u001b[0m\u001b[1;33m)\u001b[0m\u001b[1;33m,\u001b[0m \u001b[0mcoerce_numeric\u001b[0m\u001b[1;33m=\u001b[0m\u001b[0mcoerce_numeric\u001b[0m\u001b[1;33m\u001b[0m\u001b[1;33m\u001b[0m\u001b[0m\n\u001b[0;32m    186\u001b[0m             )\n",
      "\u001b[1;32mC:\\ProgramData\\Anaconda3\\lib\\site-packages\\pandas\\_libs\\lib.pyx\u001b[0m in \u001b[0;36mpandas._libs.lib.maybe_convert_numeric\u001b[1;34m()\u001b[0m\n",
      "\u001b[1;31mValueError\u001b[0m: Unable to parse string \"\"1\"\" at position 36"
     ]
    }
   ],
   "source": [
    "#Challenge 6.1\n",
    "data = pd.to_numeric(data[\"parrots\"])\n",
    "pavg = pdata[\"parrots\"].mean()\n",
    "pmed = pdata[\"parrots\"].median()\n",
    "print(f\"The average is {pavg}. The median is {pmed}.\")"
   ]
  },
  {
   "cell_type": "code",
   "execution_count": null,
   "id": "cd64c74e",
   "metadata": {},
   "outputs": [],
   "source": []
  }
 ],
 "metadata": {
  "kernelspec": {
   "display_name": "Python 3 (ipykernel)",
   "language": "python",
   "name": "python3"
  },
  "language_info": {
   "codemirror_mode": {
    "name": "ipython",
    "version": 3
   },
   "file_extension": ".py",
   "mimetype": "text/x-python",
   "name": "python",
   "nbconvert_exporter": "python",
   "pygments_lexer": "ipython3",
   "version": "3.9.13"
  }
 },
 "nbformat": 4,
 "nbformat_minor": 5
}
