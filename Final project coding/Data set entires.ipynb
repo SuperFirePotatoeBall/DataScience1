{
 "cells": [
  {
   "cell_type": "code",
   "execution_count": 1,
   "id": "f59af913",
   "metadata": {},
   "outputs": [],
   "source": [
    "import pandas as pd\n",
    "import seaborn as sns"
   ]
  },
  {
   "cell_type": "code",
   "execution_count": 2,
   "id": "80030a55",
   "metadata": {},
   "outputs": [],
   "source": [
    "#Paths to the files\n",
    "carbonFilePath = r'C:\\Users\\aclark48\\Desktop\\DataScience1\\Data files\\State energy-related carbon dioxide emissions by year.xlsx'\n",
    "cancerFilePath = r'C:\\Users\\aclark48\\Desktop\\DataScience1\\Data files\\Lung cancer by state.xlsx'\n",
    "populationFilePath = r'C:\\Users\\aclark48\\Desktop\\DataScience1\\Data files\\Population numbers.xlsx'"
   ]
  },
  {
   "cell_type": "code",
   "execution_count": 3,
   "id": "31d813f7",
   "metadata": {},
   "outputs": [],
   "source": [
    "#Sets data frames to the data\n",
    "unwrangledCarbonData = pd.read_excel(carbonFilePath)\n",
    "cancerData = pd.read_excel(cancerFilePath)\n",
    "populationData = pd.read_excel(populationFilePath)"
   ]
  },
  {
   "cell_type": "code",
   "execution_count": 4,
   "id": "dba844d7",
   "metadata": {},
   "outputs": [],
   "source": [
    "#wrangling\n",
    "carbonKeep = ['State', 2021]\n",
    "carbonData = unwrangledCarbonData[carbonKeep]"
   ]
  },
  {
   "cell_type": "code",
   "execution_count": 5,
   "id": "de678b95",
   "metadata": {},
   "outputs": [],
   "source": [
    "#Sets up main data frame\n",
    "columns = ['State', 'Carbon output', 'Cancer Cases per 1 million people']\n",
    "StateDF = [carbonData['State']]"
   ]
  },
  {
   "cell_type": "code",
   "execution_count": 6,
   "id": "dec024b0",
   "metadata": {},
   "outputs": [],
   "source": [
    "CarbonOutput = carbonData[2021]\n",
    "merged_df = pd.merge(cancerData, populationData, on='State')\n",
    "merged_df['Cancer Cases per 1 million people'] = ((merged_df['Lung & bronchus cancer']) / merged_df[2021]) *1000000\n",
    "ckeep = [\"State\", \"Cancer Cases per 1 million people\"]\n",
    "cancerCases = merged_df[ckeep]\n",
    "#print(cancerCases)"
   ]
  },
  {
   "cell_type": "code",
   "execution_count": 7,
   "id": "630bd0d1",
   "metadata": {},
   "outputs": [
    {
     "name": "stdout",
     "output_type": "stream",
     "text": [
      "756.7117375212914\n"
     ]
    }
   ],
   "source": [
    "finalDF = pd.merge(cancerCases, carbonData, on='State')\n",
    "finalDF.rename(columns={2021: 'Carbon Output'}, inplace=True)\n",
    "print(finalDF['Cancer Cases per 1 million people'].median())"
   ]
  },
  {
   "cell_type": "code",
   "execution_count": 8,
   "id": "78d01c60",
   "metadata": {},
   "outputs": [
    {
     "name": "stdout",
     "output_type": "stream",
     "text": [
      "                   State  Cancer Cases per 1 million people  Carbon Output\n",
      "0                Alabama                         895.076800     108.392103\n",
      "1                 Alaska                         503.962233      38.872526\n",
      "2                Arizona                         626.301037      83.024267\n",
      "3               Arkansas                         980.805925      62.024941\n",
      "4             California                         453.721076     324.039053\n",
      "5               Colorado                         442.242067      85.381781\n",
      "6            Connecticut                         758.965103      36.573257\n",
      "7               Delaware                         905.646557      12.966634\n",
      "8   District of Columbia                         538.284756       2.520856\n",
      "9                Florida                         846.158219     226.324207\n",
      "10               Georgia                         672.041204     124.119174\n",
      "11                Hawaii                         642.640659      17.340248\n",
      "12                 Idaho                         556.630892      20.522135\n",
      "13              Illinois                         756.711738     184.234368\n",
      "14               Indiana                         874.729876     166.380707\n",
      "15                  Iowa                         816.214460      73.142357\n",
      "16                Kansas                         735.213528      59.758435\n",
      "17              Kentucky                        1102.829657     111.297043\n",
      "18             Louisiana                         845.022085     188.600448\n",
      "19                 Maine                        1110.919100      14.407674\n",
      "20              Maryland                         685.063510      52.574576\n",
      "21         Massachusetts                         794.026631      56.118148\n",
      "22              Michigan                         855.790444     147.832461\n",
      "23             Minnesota                         695.092385      83.158399\n",
      "24           Mississippi                         973.017908      63.051958\n",
      "25              Missouri                         902.781166     116.951927\n",
      "26               Montana                         732.218613      28.516862\n",
      "27              Nebraska                         687.528838      47.227929\n",
      "28                Nevada                         661.072552      39.426304\n",
      "29         New Hampshire                         893.690473      13.289527\n",
      "30            New Jersey                         636.601729      89.111716\n",
      "31            New Mexico                         453.541093      45.888995\n",
      "32              New York                         702.505634     156.048534\n",
      "33        North Carolina                         835.708509     115.563769\n",
      "34          North Dakota                         629.873485      56.540302\n",
      "35                  Ohio                         879.777212     194.036986\n",
      "36              Oklahoma                         826.813823      87.803474\n",
      "37                Oregon                         702.487911      38.538192\n",
      "38          Pennsylvania                         858.434472     213.509723\n",
      "39          Rhode Island                         866.010018      10.642109\n",
      "40        South Carolina                         868.432312      69.339432\n",
      "41          South Dakota                         725.313670      15.156393\n",
      "42             Tennessee                         919.873296      92.666118\n",
      "43                 Texas                         507.800300     663.458164\n",
      "44                  Utah                         230.600162      62.053606\n",
      "45               Vermont                         881.027309       5.572401\n",
      "46              Virginia                         672.259977      97.953403\n",
      "47            Washington                         617.511622      73.801077\n",
      "48         West Virginia                        1131.319286      88.414553\n",
      "49             Wisconsin                         772.095581      92.461744\n",
      "50               Wyoming                         552.216372      54.596720\n"
     ]
    }
   ],
   "source": [
    "print(finalDF)"
   ]
  },
  {
   "cell_type": "code",
   "execution_count": 9,
   "id": "14e2a38d",
   "metadata": {},
   "outputs": [
    {
     "name": "stderr",
     "output_type": "stream",
     "text": [
      "C:\\ProgramData\\Anaconda3\\lib\\site-packages\\seaborn\\_decorators.py:36: FutureWarning: Pass the following variable as a keyword arg: x. From version 0.12, the only valid positional argument will be `data`, and passing other arguments without an explicit keyword will result in an error or misinterpretation.\n",
      "  warnings.warn(\n"
     ]
    },
    {
     "ename": "ValueError",
     "evalue": "Could not interpret input 'body_mass_g'",
     "output_type": "error",
     "traceback": [
      "\u001b[1;31m---------------------------------------------------------------------------\u001b[0m",
      "\u001b[1;31mValueError\u001b[0m                                Traceback (most recent call last)",
      "\u001b[1;32m~\\AppData\\Local\\Temp\\ipykernel_11064\\75242672.py\u001b[0m in \u001b[0;36m<module>\u001b[1;34m\u001b[0m\n\u001b[0;32m      1\u001b[0m \u001b[0mpenguins\u001b[0m \u001b[1;33m=\u001b[0m \u001b[0msns\u001b[0m\u001b[1;33m.\u001b[0m\u001b[0mload_dataset\u001b[0m\u001b[1;33m(\u001b[0m\u001b[1;34m\"penguins\"\u001b[0m\u001b[1;33m)\u001b[0m\u001b[1;33m\u001b[0m\u001b[1;33m\u001b[0m\u001b[0m\n\u001b[1;32m----> 2\u001b[1;33m \u001b[0msns\u001b[0m\u001b[1;33m.\u001b[0m\u001b[0mbarplot\u001b[0m\u001b[1;33m(\u001b[0m\u001b[0mpenguins\u001b[0m\u001b[1;33m,\u001b[0m \u001b[0mx\u001b[0m\u001b[1;33m=\u001b[0m\u001b[1;34m\"island\"\u001b[0m\u001b[1;33m,\u001b[0m \u001b[0my\u001b[0m\u001b[1;33m=\u001b[0m\u001b[1;34m\"body_mass_g\"\u001b[0m\u001b[1;33m)\u001b[0m\u001b[1;33m\u001b[0m\u001b[1;33m\u001b[0m\u001b[0m\n\u001b[0m",
      "\u001b[1;32mC:\\ProgramData\\Anaconda3\\lib\\site-packages\\seaborn\\_decorators.py\u001b[0m in \u001b[0;36minner_f\u001b[1;34m(*args, **kwargs)\u001b[0m\n\u001b[0;32m     44\u001b[0m             )\n\u001b[0;32m     45\u001b[0m         \u001b[0mkwargs\u001b[0m\u001b[1;33m.\u001b[0m\u001b[0mupdate\u001b[0m\u001b[1;33m(\u001b[0m\u001b[1;33m{\u001b[0m\u001b[0mk\u001b[0m\u001b[1;33m:\u001b[0m \u001b[0marg\u001b[0m \u001b[1;32mfor\u001b[0m \u001b[0mk\u001b[0m\u001b[1;33m,\u001b[0m \u001b[0marg\u001b[0m \u001b[1;32min\u001b[0m \u001b[0mzip\u001b[0m\u001b[1;33m(\u001b[0m\u001b[0msig\u001b[0m\u001b[1;33m.\u001b[0m\u001b[0mparameters\u001b[0m\u001b[1;33m,\u001b[0m \u001b[0margs\u001b[0m\u001b[1;33m)\u001b[0m\u001b[1;33m}\u001b[0m\u001b[1;33m)\u001b[0m\u001b[1;33m\u001b[0m\u001b[1;33m\u001b[0m\u001b[0m\n\u001b[1;32m---> 46\u001b[1;33m         \u001b[1;32mreturn\u001b[0m \u001b[0mf\u001b[0m\u001b[1;33m(\u001b[0m\u001b[1;33m**\u001b[0m\u001b[0mkwargs\u001b[0m\u001b[1;33m)\u001b[0m\u001b[1;33m\u001b[0m\u001b[1;33m\u001b[0m\u001b[0m\n\u001b[0m\u001b[0;32m     47\u001b[0m     \u001b[1;32mreturn\u001b[0m \u001b[0minner_f\u001b[0m\u001b[1;33m\u001b[0m\u001b[1;33m\u001b[0m\u001b[0m\n\u001b[0;32m     48\u001b[0m \u001b[1;33m\u001b[0m\u001b[0m\n",
      "\u001b[1;32mC:\\ProgramData\\Anaconda3\\lib\\site-packages\\seaborn\\categorical.py\u001b[0m in \u001b[0;36mbarplot\u001b[1;34m(x, y, hue, data, order, hue_order, estimator, ci, n_boot, units, seed, orient, color, palette, saturation, errcolor, errwidth, capsize, dodge, ax, **kwargs)\u001b[0m\n\u001b[0;32m   3180\u001b[0m ):\n\u001b[0;32m   3181\u001b[0m \u001b[1;33m\u001b[0m\u001b[0m\n\u001b[1;32m-> 3182\u001b[1;33m     plotter = _BarPlotter(x, y, hue, data, order, hue_order,\n\u001b[0m\u001b[0;32m   3183\u001b[0m                           \u001b[0mestimator\u001b[0m\u001b[1;33m,\u001b[0m \u001b[0mci\u001b[0m\u001b[1;33m,\u001b[0m \u001b[0mn_boot\u001b[0m\u001b[1;33m,\u001b[0m \u001b[0munits\u001b[0m\u001b[1;33m,\u001b[0m \u001b[0mseed\u001b[0m\u001b[1;33m,\u001b[0m\u001b[1;33m\u001b[0m\u001b[1;33m\u001b[0m\u001b[0m\n\u001b[0;32m   3184\u001b[0m                           \u001b[0morient\u001b[0m\u001b[1;33m,\u001b[0m \u001b[0mcolor\u001b[0m\u001b[1;33m,\u001b[0m \u001b[0mpalette\u001b[0m\u001b[1;33m,\u001b[0m \u001b[0msaturation\u001b[0m\u001b[1;33m,\u001b[0m\u001b[1;33m\u001b[0m\u001b[1;33m\u001b[0m\u001b[0m\n",
      "\u001b[1;32mC:\\ProgramData\\Anaconda3\\lib\\site-packages\\seaborn\\categorical.py\u001b[0m in \u001b[0;36m__init__\u001b[1;34m(self, x, y, hue, data, order, hue_order, estimator, ci, n_boot, units, seed, orient, color, palette, saturation, errcolor, errwidth, capsize, dodge)\u001b[0m\n\u001b[0;32m   1582\u001b[0m                  errwidth, capsize, dodge):\n\u001b[0;32m   1583\u001b[0m         \u001b[1;34m\"\"\"Initialize the plotter.\"\"\"\u001b[0m\u001b[1;33m\u001b[0m\u001b[1;33m\u001b[0m\u001b[0m\n\u001b[1;32m-> 1584\u001b[1;33m         self.establish_variables(x, y, hue, data, orient,\n\u001b[0m\u001b[0;32m   1585\u001b[0m                                  order, hue_order, units)\n\u001b[0;32m   1586\u001b[0m         \u001b[0mself\u001b[0m\u001b[1;33m.\u001b[0m\u001b[0mestablish_colors\u001b[0m\u001b[1;33m(\u001b[0m\u001b[0mcolor\u001b[0m\u001b[1;33m,\u001b[0m \u001b[0mpalette\u001b[0m\u001b[1;33m,\u001b[0m \u001b[0msaturation\u001b[0m\u001b[1;33m)\u001b[0m\u001b[1;33m\u001b[0m\u001b[1;33m\u001b[0m\u001b[0m\n",
      "\u001b[1;32mC:\\ProgramData\\Anaconda3\\lib\\site-packages\\seaborn\\categorical.py\u001b[0m in \u001b[0;36mestablish_variables\u001b[1;34m(self, x, y, hue, data, orient, order, hue_order, units)\u001b[0m\n\u001b[0;32m    151\u001b[0m                 \u001b[1;32mif\u001b[0m \u001b[0misinstance\u001b[0m\u001b[1;33m(\u001b[0m\u001b[0mvar\u001b[0m\u001b[1;33m,\u001b[0m \u001b[0mstr\u001b[0m\u001b[1;33m)\u001b[0m\u001b[1;33m:\u001b[0m\u001b[1;33m\u001b[0m\u001b[1;33m\u001b[0m\u001b[0m\n\u001b[0;32m    152\u001b[0m                     \u001b[0merr\u001b[0m \u001b[1;33m=\u001b[0m \u001b[1;34m\"Could not interpret input '{}'\"\u001b[0m\u001b[1;33m.\u001b[0m\u001b[0mformat\u001b[0m\u001b[1;33m(\u001b[0m\u001b[0mvar\u001b[0m\u001b[1;33m)\u001b[0m\u001b[1;33m\u001b[0m\u001b[1;33m\u001b[0m\u001b[0m\n\u001b[1;32m--> 153\u001b[1;33m                     \u001b[1;32mraise\u001b[0m \u001b[0mValueError\u001b[0m\u001b[1;33m(\u001b[0m\u001b[0merr\u001b[0m\u001b[1;33m)\u001b[0m\u001b[1;33m\u001b[0m\u001b[1;33m\u001b[0m\u001b[0m\n\u001b[0m\u001b[0;32m    154\u001b[0m \u001b[1;33m\u001b[0m\u001b[0m\n\u001b[0;32m    155\u001b[0m             \u001b[1;31m# Figure out the plotting orientation\u001b[0m\u001b[1;33m\u001b[0m\u001b[1;33m\u001b[0m\u001b[0m\n",
      "\u001b[1;31mValueError\u001b[0m: Could not interpret input 'body_mass_g'"
     ]
    }
   ],
   "source": [
    "penguins = sns.load_dataset(\"penguins\")\n",
    "sns.barplot(penguins, x=\"island\", y=\"body_mass_g\")"
   ]
  },
  {
   "cell_type": "code",
   "execution_count": null,
   "id": "0cfff946",
   "metadata": {},
   "outputs": [],
   "source": []
  }
 ],
 "metadata": {
  "kernelspec": {
   "display_name": "Python 3 (ipykernel)",
   "language": "python",
   "name": "python3"
  },
  "language_info": {
   "codemirror_mode": {
    "name": "ipython",
    "version": 3
   },
   "file_extension": ".py",
   "mimetype": "text/x-python",
   "name": "python",
   "nbconvert_exporter": "python",
   "pygments_lexer": "ipython3",
   "version": "3.9.13"
  }
 },
 "nbformat": 4,
 "nbformat_minor": 5
}
