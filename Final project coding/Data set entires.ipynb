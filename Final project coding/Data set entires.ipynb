{
 "cells": [
  {
   "cell_type": "code",
   "execution_count": 1,
   "id": "f59af913",
   "metadata": {},
   "outputs": [],
   "source": [
    "import pandas as pd"
   ]
  },
  {
   "cell_type": "code",
   "execution_count": 2,
   "id": "80030a55",
   "metadata": {},
   "outputs": [],
   "source": [
    "#Paths to the files\n",
    "carbonFilePath = r'C:\\Users\\aclark48\\Desktop\\DataScience1\\Data files\\State energy-related carbon dioxide emissions by year.xlsx'\n",
    "cancerFilePath = r'C:\\Users\\aclark48\\Desktop\\DataScience1\\Data files\\Lung cancer by state.xlsx'\n",
    "populationFilePath = r'C:\\Users\\aclark48\\Desktop\\DataScience1\\Data files\\Population numbers.xlsx'"
   ]
  },
  {
   "cell_type": "code",
   "execution_count": 3,
   "id": "31d813f7",
   "metadata": {},
   "outputs": [],
   "source": [
    "#Sets data frames to the data\n",
    "unwrangledCarbonData = pd.read_excel(carbonFilePath)\n",
    "cancerData = pd.read_excel(cancerFilePath)\n",
    "populationData = pd.read_excel(populationFilePath)"
   ]
  },
  {
   "cell_type": "code",
   "execution_count": 4,
   "id": "dba844d7",
   "metadata": {},
   "outputs": [],
   "source": [
    "#wrangling\n",
    "carbonKeep = ['State', 2021]\n",
    "carbonData = unwrangledCarbonData[carbonKeep]"
   ]
  },
  {
   "cell_type": "code",
   "execution_count": 5,
   "id": "de678b95",
   "metadata": {},
   "outputs": [],
   "source": [
    "#Sets up main data frame\n",
    "columns = ['State', 'Carbon output', 'Cancer Cases per 1 million people']\n",
    "StateDF = [carbonData['State']]\n",
    "\n"
   ]
  },
  {
   "cell_type": "code",
   "execution_count": 6,
   "id": "dec024b0",
   "metadata": {},
   "outputs": [],
   "source": [
    "CarbonOutput = carbonData[2021]\n",
    "merged_df = pd.merge(cancerData, populationData, on='State')\n",
    "merged_df['Cancer Cases per 1 million'] = ((merged_df['Lung & bronchus cancer']) / merged_df[2021]) *1000000\n",
    "ckeep = [\"State\", \"Cancer Cases per 1 million\"]\n",
    "cancerCases = merged_df[ckeep]\n",
    "#print(cancerCases)"
   ]
  },
  {
   "cell_type": "code",
   "execution_count": 9,
   "id": "630bd0d1",
   "metadata": {},
   "outputs": [
    {
     "name": "stdout",
     "output_type": "stream",
     "text": [
      "756.7117375212914\n"
     ]
    }
   ],
   "source": [
    "finalDF = pd.merge(cancerCases, carbonData, on='State')\n",
    "finalDF.rename(columns={2021: 'Carbon Output'}, inplace=True)\n",
    "print(finalDF['Cancer Cases per 1 million'].median())"
   ]
  },
  {
   "cell_type": "code",
   "execution_count": null,
   "id": "78d01c60",
   "metadata": {},
   "outputs": [],
   "source": []
  }
 ],
 "metadata": {
  "kernelspec": {
   "display_name": "Python 3 (ipykernel)",
   "language": "python",
   "name": "python3"
  },
  "language_info": {
   "codemirror_mode": {
    "name": "ipython",
    "version": 3
   },
   "file_extension": ".py",
   "mimetype": "text/x-python",
   "name": "python",
   "nbconvert_exporter": "python",
   "pygments_lexer": "ipython3",
   "version": "3.9.13"
  }
 },
 "nbformat": 4,
 "nbformat_minor": 5
}
