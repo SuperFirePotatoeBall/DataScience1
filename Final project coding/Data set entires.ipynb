{
 "cells": [
  {
   "cell_type": "code",
   "execution_count": 1,
   "id": "f59af913",
   "metadata": {},
   "outputs": [],
   "source": [
    "import pandas as pd"
   ]
  },
  {
   "cell_type": "code",
   "execution_count": 2,
   "id": "80030a55",
   "metadata": {},
   "outputs": [],
   "source": [
    "#Paths to the files\n",
    "carbonFilePath = r'C:\\Users\\aclark48\\Desktop\\DataScience1\\Data files\\State energy-related carbon dioxide emissions by year.xlsx'\n",
    "cancerFilePath = r'C:\\Users\\aclark48\\Desktop\\DataScience1\\Data files\\Lung cancer by state.xlsx'\n",
    "COPDFilePath = r'C:\\Users\\aclark48\\Desktop\\DataScience1\\Data files\\State_COPD_prevalence.csv'\n",
    "asthmaFilePath = r'C:\\Users\\aclark48\\Desktop\\DataScience1\\Data files\\Asthma by state.xlsx'\n",
    "populationFilePath = r'C:\\Users\\aclark48\\Desktop\\DataScience1\\Data files\\Population numbers.xlsx'"
   ]
  },
  {
   "cell_type": "code",
   "execution_count": 3,
   "id": "31d813f7",
   "metadata": {},
   "outputs": [],
   "source": [
    "#Sets data frames to the data\n",
    "unwrangledCarbonData = pd.read_excel(carbonFilePath)\n",
    "cancerData = pd.read_excel(cancerFilePath)\n",
    "unwrangledCOPDData = pd.read_csv(COPDFilePath)\n",
    "unwrangledAsthmaData = pd.read_excel(asthmaFilePath)\n",
    "populationData = pd.read_excel(populationFilePath)"
   ]
  },
  {
   "cell_type": "code",
   "execution_count": 4,
   "id": "159773bc",
   "metadata": {},
   "outputs": [],
   "source": [
    "#Wrangle: keeps only the columns I want\n",
    "carbonKeep = ['State', 2021]\n",
    "carbonData = unwrangledCarbonData[carbonKeep]\n",
    "COPDKeep = ['State Name', 'Age-Adjusted Prevalence (%)']\n",
    "COPDData = unwrangledCOPDData[COPDKeep]\n",
    "asthmaKeep = ['State', 'Percent With Current Asthma']\n",
    "asthmaData = unwrangledAsthmaData[asthmaKeep]"
   ]
  },
  {
   "cell_type": "code",
   "execution_count": 11,
   "id": "de678b95",
   "metadata": {},
   "outputs": [],
   "source": [
    "#Sets up main data frame\n",
    "columns = ['State', 'Carbon output', 'COPD %', 'Cancer %', 'Asthma %']\n",
    "CarbonOutput = carbonData[2021]\n",
    "COPDper = COPDData['Age-Adjusted Prevalence (%)']\n",
    "AsthmaPer = asthmaData['Percent With Current Asthma']\n"
   ]
  },
  {
   "cell_type": "code",
   "execution_count": 12,
   "id": "dec024b0",
   "metadata": {},
   "outputs": [
    {
     "name": "stdout",
     "output_type": "stream",
     "text": [
      "                   State  Lung & bronchus cancer      2021  Percentage\n",
      "0                Alabama                    4520   5049846    0.089508\n",
      "1                 Alaska                     370    734182    0.050396\n",
      "2                Arizona                    4550   7264877    0.062630\n",
      "3               Arkansas                    2970   3028122    0.098081\n",
      "4             California                   17760  39142991    0.045372\n",
      "5               Colorado                    2570   5811297    0.044224\n",
      "6            Connecticut                    2750   3623355    0.075897\n",
      "7               Delaware                     910   1004807    0.090565\n",
      "8   District of Columbia                     360    668791    0.053828\n",
      "9                Florida                   18470  21828069    0.084616\n",
      "10               Georgia                    7250  10788029    0.067204\n",
      "11                Hawaii                     930   1447154    0.064264\n",
      "12                 Idaho                    1060   1904314    0.055663\n",
      "13              Illinois                    9600  12686469    0.075671\n",
      "14               Indiana                    5960   6813532    0.087473\n",
      "15                  Iowa                    2610   3197689    0.081621\n",
      "16                Kansas                    2160   2937922    0.073521\n",
      "17              Kentucky                    4970   4506589    0.110283\n",
      "18             Louisiana                    3910   4627098    0.084502\n",
      "19                 Maine                    1530   1377238    0.111092\n",
      "20              Maryland                    4230   6174610    0.068506\n",
      "21         Massachusetts                    5550   6989690    0.079403\n",
      "22              Michigan                    8590  10037504    0.085579\n",
      "23             Minnesota                    3970   5711471    0.069509\n",
      "24           Mississippi                    2870   2949586    0.097302\n",
      "25              Missouri                    5570   6169823    0.090278\n",
      "26               Montana                     810   1106227    0.073222\n",
      "27              Nebraska                    1350   1963554    0.068753\n",
      "28                Nevada                    2080   3146402    0.066107\n",
      "29         New Hampshire                    1240   1387505    0.089369\n",
      "30            New Jersey                    5900   9267961    0.063660\n",
      "31            New Mexico                     960   2116677    0.045354\n",
      "32              New York                   13950  19857492    0.070251\n",
      "33        North Carolina                    8830  10565885    0.083571\n",
      "34          North Dakota                     490    777934    0.062987\n",
      "35                  Ohio                   10350  11764342    0.087978\n",
      "36              Oklahoma                    3300   3991225    0.082681\n",
      "37                Oregon                    2990   4256301    0.070249\n",
      "38          Pennsylvania                   11170  13012059    0.085843\n",
      "39          Rhode Island                     950   1096985    0.086601\n",
      "40        South Carolina                    4510   5193266    0.086843\n",
      "41          South Dakota                     650    896164    0.072531\n",
      "42             Tennessee                    6410   6968351    0.091987\n",
      "43                 Texas                   15010  29558864    0.050780\n",
      "44                  Utah                     770   3339113    0.023060\n",
      "45               Vermont                     570    646972    0.088103\n",
      "46              Virginia                    5820   8657365    0.067226\n",
      "47            Washington                    4780   7740745    0.061751\n",
      "48         West Virginia                    2020   1785526    0.113132\n",
      "49             Wisconsin                    4540   5880101    0.077210\n",
      "50               Wyoming                     320    579483    0.055222\n"
     ]
    }
   ],
   "source": [
    "merged_df = pd.merge(cancerData, populationData, on='State')\n",
    "merged_df['Percentage'] = ((merged_df['Lung & bronchus cancer']) / merged_df[2021]) * 100\n",
    "print(merged_df)"
   ]
  },
  {
   "cell_type": "code",
   "execution_count": null,
   "id": "630bd0d1",
   "metadata": {},
   "outputs": [],
   "source": []
  },
  {
   "cell_type": "code",
   "execution_count": null,
   "id": "78d01c60",
   "metadata": {},
   "outputs": [],
   "source": []
  }
 ],
 "metadata": {
  "kernelspec": {
   "display_name": "Python 3 (ipykernel)",
   "language": "python",
   "name": "python3"
  },
  "language_info": {
   "codemirror_mode": {
    "name": "ipython",
    "version": 3
   },
   "file_extension": ".py",
   "mimetype": "text/x-python",
   "name": "python",
   "nbconvert_exporter": "python",
   "pygments_lexer": "ipython3",
   "version": "3.9.13"
  }
 },
 "nbformat": 4,
 "nbformat_minor": 5
}
